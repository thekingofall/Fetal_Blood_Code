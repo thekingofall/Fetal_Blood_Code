{
 "cells": [
  {
   "cell_type": "raw",
   "id": "983595ad",
   "metadata": {},
   "source": [
    "---\n",
    "title: \"Gaoall\"\n",
    "format: html\n",
    "envs : Pyscan(3.9.16)\n",
    "first time :2023-05-15 15:49:01\n",
    "last time : \n",
    "---"
   ]
  },
  {
   "cell_type": "raw",
   "id": "e254128a",
   "metadata": {},
   "source": [
    "mamba create -n Pyscan\n",
    "mamba activate Pyscan\n",
    "mamba install -y -c conda-forge scanpy python-igraph leidenalg\n",
    "mamba install -y  ipykernel"
   ]
  },
  {
   "cell_type": "code",
   "execution_count": 1,
   "id": "4c85ea38",
   "metadata": {},
   "outputs": [],
   "source": [
    "import os\n",
    "import pandas as pd\n",
    "import scanpy as sc \n",
    "import numpy as np\n",
    "import matplotlib.pyplot as pl\n",
    "from matplotlib import rcParams\n",
    "import scanpy as sc "
   ]
  },
  {
   "cell_type": "code",
   "execution_count": 2,
   "id": "c84acc2c",
   "metadata": {},
   "outputs": [],
   "source": [
    "sc.settings.verbosity = 3  # verbosity: errors (0), warnings (1), info (2), hints (3)\n",
    "sc.set_figure_params(dpi=100)"
   ]
  },
  {
   "cell_type": "code",
   "execution_count": 3,
   "id": "5c1b6fd0",
   "metadata": {},
   "outputs": [],
   "source": [
    "os.chdir(\"/home/maolp/data5/Gaofeng_All_matrix/Allcount/All_h5\")"
   ]
  },
  {
   "cell_type": "code",
   "execution_count": null,
   "id": "6a0cc200",
   "metadata": {},
   "outputs": [],
   "source": []
  },
  {
   "cell_type": "code",
   "execution_count": 1,
   "id": "53c3d659",
   "metadata": {},
   "outputs": [],
   "source": [
    "import glob\n",
    "H5data=[]\n",
    "for line in  glob.glob(\"*h5\"):\n",
    "    # print(line)\n",
    "    H5data.append(line)\n",
    "print(H5data)"
   ]
  },
  {
   "cell_type": "markdown",
   "id": "8accfdf8",
   "metadata": {},
   "source": [
    "### Doublet rate calculation"
   ]
  },
  {
   "cell_type": "code",
   "execution_count": 5,
   "id": "f94a5d9c",
   "metadata": {},
   "outputs": [],
   "source": [
    "import scrublet as scr\n",
    "import os\n",
    "import pandas as pd\n",
    "import scanpy as sc  \n",
    "import numpy as np\n",
    "import matplotlib.pyplot as pl\n",
    "from matplotlib import rcParams\n",
    "# import scanpy as sc \n",
    "%matplotlib inline\n",
    "# import scrublet as scr\n",
    "import scipy.io\n",
    "import matplotlib.pyplot as plt\n",
    "import numpy as np\n",
    "import os\n",
    "import pandas as pd\n",
    "\n",
    "plt.rc('font', size=14)\n",
    "plt.rcParams['pdf.fonttype'] = 42"
   ]
  },
  {
   "cell_type": "code",
   "execution_count": 2,
   "id": "4c4c5491",
   "metadata": {},
   "outputs": [],
   "source": [
    "filenames =H5data\n",
    "adatadict_sc={}\n",
    "# adatas = []\n",
    "scrub_doublet_rate=pd.DataFrame()\n",
    "i=0\n",
    "for filename in filenames: \n",
    "    \n",
    "    dat1=sc.read_10x_h5(filename)\n",
    "    name=filename.rsplit(\"_\")[0]\n",
    "    dat1.obs_names=name+\"_\"+dat1.obs_names \n",
    "    dat1.obs[\"Name\"]=name \n",
    "    dat1.var_names_make_unique() \n",
    "    mat_test1=pd.DataFrame(data=dat1.X.todense(),index=dat1.obs_names,columns=dat1.var_names)\n",
    "    scrub1 = scr.Scrublet(mat_test1)\n",
    "    doublet_scores, predicted_doublets = scrub1.scrub_doublets(min_counts=2, min_cells=3, min_gene_variability_pctl=85, n_prin_comps=30)\n",
    "    \n",
    "    dat1.uns['doublet_scores'] =doublet_scores\n",
    "    dat1.uns['predicted_doublets'] = predicted_doublets \n",
    "    print (name,scrub1.detected_doublet_rate_)\n",
    "   \n",
    "    scrub_doublet_rate.loc[i,\"name\"]=name\n",
    "    scrub_doublet_rate.loc[i,\"rate\"]=scrub1.detected_doublet_rate_\n",
    "    i+=1\n",
    "\n",
    "    adatadict_sc[name]=dat1\n",
    "    "
   ]
  },
  {
   "cell_type": "code",
   "execution_count": 3,
   "id": "8112be5a",
   "metadata": {},
   "outputs": [],
   "source": [
    "scrub_doublet_rate"
   ]
  },
  {
   "cell_type": "code",
   "execution_count": 5,
   "id": "65cb1e61",
   "metadata": {},
   "outputs": [],
   "source": [
    "# adatadict_sc.values()"
   ]
  },
  {
   "cell_type": "code",
   "execution_count": 10,
   "id": "59affd41",
   "metadata": {},
   "outputs": [],
   "source": [
    "adatadict_sc2=adatadict_sc.copy()"
   ]
  },
  {
   "cell_type": "code",
   "execution_count": 11,
   "id": "35c30eee",
   "metadata": {},
   "outputs": [],
   "source": [
    "\n",
    "from anndata import concat\n",
    "\n",
    "adata_list = list(adatadict_sc2.values())\n",
    "\n",
    "adata_merged = concat(adata_list, join='outer')\n"
   ]
  },
  {
   "cell_type": "code",
   "execution_count": 6,
   "id": "dd8aca25",
   "metadata": {},
   "outputs": [],
   "source": [
    "# adatadict_sc"
   ]
  },
  {
   "cell_type": "code",
   "execution_count": 13,
   "id": "b905d85e",
   "metadata": {},
   "outputs": [],
   "source": [
    "# adata_merged=[]"
   ]
  },
  {
   "cell_type": "code",
   "execution_count": 7,
   "id": "c8cc4b3f",
   "metadata": {},
   "outputs": [],
   "source": [
    "adata_list = []\n",
    "# Transfer the 'uns' contents to 'obs' and collect the modified objects in a list\n",
    "for name, adata in adatadict_sc2.items():\n",
    "    print(name)\n",
    "    for key in adata.uns.keys():\n",
    "        print(key)\n",
    "        adata.obs['doublet_scores'] = adata.uns['doublet_scores']\n",
    "        adata.obs['predicted_doublets'] = adata.uns['predicted_doublets']\n",
    "        print(adata)\n",
    "    adata_list.append(adata)\n",
    "# Concatenate the Anndata objects\n",
    "adata_m = concat(adata_list, join='outer')"
   ]
  },
  {
   "cell_type": "code",
   "execution_count": 15,
   "id": "7d756f05",
   "metadata": {},
   "outputs": [
    {
     "data": {
      "text/plain": [
       "AnnData object with n_obs × n_vars = 267657 × 36601\n",
       "    obs: 'Name', 'doublet_scores', 'predicted_doublets'"
      ]
     },
     "execution_count": 15,
     "metadata": {},
     "output_type": "execute_result"
    }
   ],
   "source": [
    "adata_m"
   ]
  },
  {
   "cell_type": "code",
   "execution_count": 16,
   "id": "0d45f0eb",
   "metadata": {},
   "outputs": [],
   "source": [
    "# adata_merged2=pd.DataFrame(data=adata_merged.X.todense(),index=adata_merged.obs_names,columns=adata_merged.var_names)\n",
    "# scrub_merge= scr.Scrublet(adata_merged2)\n",
    "# doublet_scores2, predicted_doublets2 = scrub_merge.scrub_doublets(min_counts=2, min_cells=3, min_gene_variability_pctl=85, n_prin_comps=30)\n",
    "# adata_merged.uns['doublet_scores'] =doublet_scores2\n",
    "# adata_merged.uns['predicted_doublets'] = predicted_doublets2 "
   ]
  },
  {
   "cell_type": "code",
   "execution_count": 17,
   "id": "eca1feb0",
   "metadata": {},
   "outputs": [],
   "source": [
    "# adata_list = []\n",
    "\n",
    "# # Transfer the 'uns' contents to 'obs' and collect the modified objects in a list\n",
    "# for name, adata in adatadict_sc.items():\n",
    "#     for key in adata.uns.keys():\n",
    "#         adata.obs[key] = adata.uns[key]\n",
    "#     adata_list.append(adata)"
   ]
  },
  {
   "cell_type": "code",
   "execution_count": 18,
   "id": "58a1fc3d",
   "metadata": {},
   "outputs": [
    {
     "data": {
      "text/plain": [
       "False    257571\n",
       "True      10086\n",
       "Name: predicted_doublets, dtype: int64"
      ]
     },
     "execution_count": 18,
     "metadata": {},
     "output_type": "execute_result"
    }
   ],
   "source": [
    "adata_m.obs['predicted_doublets'].value_counts()"
   ]
  },
  {
   "cell_type": "code",
   "execution_count": null,
   "id": "6172482d",
   "metadata": {},
   "outputs": [],
   "source": []
  },
  {
   "cell_type": "markdown",
   "id": "bcf21b62",
   "metadata": {},
   "source": [
    "### Celltypist"
   ]
  },
  {
   "cell_type": "code",
   "execution_count": 19,
   "id": "8a9c2f70",
   "metadata": {},
   "outputs": [],
   "source": [
    "import scanpy as sc\n",
    "import celltypist\n",
    "from celltypist import models"
   ]
  },
  {
   "cell_type": "code",
   "execution_count": 20,
   "id": "b8ce56a9",
   "metadata": {},
   "outputs": [
    {
     "name": "stdout",
     "output_type": "stream",
     "text": [
      "normalizing counts per cell\n",
      "    finished (0:00:02)\n"
     ]
    }
   ],
   "source": [
    "sc.pp.normalize_total(adata_m, target_sum=1e4)\n",
    "sc.pp.log1p(adata_m)"
   ]
  },
  {
   "cell_type": "code",
   "execution_count": 21,
   "id": "6c36a9c0",
   "metadata": {},
   "outputs": [],
   "source": [
    "model = models.Model.load(model = 'Immune_All_Low.pkl')"
   ]
  },
  {
   "cell_type": "code",
   "execution_count": 22,
   "id": "dcf33ff4",
   "metadata": {},
   "outputs": [
    {
     "name": "stderr",
     "output_type": "stream",
     "text": [
      "🔬 Input data has 267657 cells and 36601 genes\n",
      "🔗 Matching reference genes in the model\n",
      "🧬 6147 features used for prediction\n",
      "⚖️ Scaling input data\n",
      "🖋️ Predicting labels\n",
      "✅ Prediction done!\n",
      "👀 Can not detect a neighborhood graph, construct one before the over-clustering\n"
     ]
    },
    {
     "name": "stdout",
     "output_type": "stream",
     "text": [
      "filtered out 6078 genes that are detected in less than 5 cells\n",
      "If you pass `n_top_genes`, all cutoffs are ignored.\n",
      "extracting highly variable genes\n",
      "    finished (0:00:06)\n",
      "--> added\n",
      "    'highly_variable', boolean vector (adata.var)\n",
      "    'means', float vector (adata.var)\n",
      "    'dispersions', float vector (adata.var)\n",
      "    'dispersions_norm', float vector (adata.var)\n",
      "... as `zero_center=True`, sparse input is densified and may lead to large memory consumption\n",
      "computing PCA\n",
      "    on highly variable genes\n",
      "    with n_comps=50\n",
      "    finished (0:01:09)\n",
      "computing neighbors\n",
      "    using 'X_pca' with n_pcs = 50\n"
     ]
    },
    {
     "name": "stderr",
     "output_type": "stream",
     "text": [
      "/data1/maolp/mamba/envs/Pyscan/lib/python3.9/site-packages/umap/distances.py:1063: NumbaDeprecationWarning: \u001b[1mThe 'nopython' keyword argument was not supplied to the 'numba.jit' decorator. The implicit default value for this argument is currently False, but it will be changed to True in Numba 0.59.0. See https://numba.readthedocs.io/en/stable/reference/deprecation.html#deprecation-of-object-mode-fall-back-behaviour-when-using-jit for details.\u001b[0m\n",
      "  @numba.jit()\n",
      "/data1/maolp/mamba/envs/Pyscan/lib/python3.9/site-packages/umap/distances.py:1071: NumbaDeprecationWarning: \u001b[1mThe 'nopython' keyword argument was not supplied to the 'numba.jit' decorator. The implicit default value for this argument is currently False, but it will be changed to True in Numba 0.59.0. See https://numba.readthedocs.io/en/stable/reference/deprecation.html#deprecation-of-object-mode-fall-back-behaviour-when-using-jit for details.\u001b[0m\n",
      "  @numba.jit()\n",
      "/data1/maolp/mamba/envs/Pyscan/lib/python3.9/site-packages/umap/distances.py:1086: NumbaDeprecationWarning: \u001b[1mThe 'nopython' keyword argument was not supplied to the 'numba.jit' decorator. The implicit default value for this argument is currently False, but it will be changed to True in Numba 0.59.0. See https://numba.readthedocs.io/en/stable/reference/deprecation.html#deprecation-of-object-mode-fall-back-behaviour-when-using-jit for details.\u001b[0m\n",
      "  @numba.jit()\n",
      "/data1/maolp/mamba/envs/Pyscan/lib/python3.9/site-packages/tqdm/auto.py:22: TqdmWarning: IProgress not found. Please update jupyter and ipywidgets. See https://ipywidgets.readthedocs.io/en/stable/user_install.html\n",
      "  from .autonotebook import tqdm as notebook_tqdm\n",
      "/data1/maolp/mamba/envs/Pyscan/lib/python3.9/site-packages/umap/umap_.py:660: NumbaDeprecationWarning: \u001b[1mThe 'nopython' keyword argument was not supplied to the 'numba.jit' decorator. The implicit default value for this argument is currently False, but it will be changed to True in Numba 0.59.0. See https://numba.readthedocs.io/en/stable/reference/deprecation.html#deprecation-of-object-mode-fall-back-behaviour-when-using-jit for details.\u001b[0m\n",
      "  @numba.jit()\n"
     ]
    },
    {
     "name": "stdout",
     "output_type": "stream",
     "text": [
      "    finished: added to `.uns['neighbors']`\n",
      "    `.obsp['distances']`, distances for each pair of neighbors\n",
      "    `.obsp['connectivities']`, weighted adjacency matrix (0:00:46)\n"
     ]
    },
    {
     "name": "stderr",
     "output_type": "stream",
     "text": [
      "⛓️ Over-clustering input data with resolution set to 30\n"
     ]
    },
    {
     "name": "stdout",
     "output_type": "stream",
     "text": [
      "running Leiden clustering\n",
      "    finished: found 537 clusters and added\n",
      "    'over_clustering', the cluster labels (adata.obs, categorical) (0:05:18)\n"
     ]
    },
    {
     "name": "stderr",
     "output_type": "stream",
     "text": [
      "🗳️ Majority voting the predictions\n",
      "✅ Majority voting done!\n"
     ]
    }
   ],
   "source": [
    "predictions = celltypist.annotate(adata_m, model = 'Immune_All_Low.pkl', majority_voting = True)"
   ]
  },
  {
   "cell_type": "code",
   "execution_count": 23,
   "id": "8fcd73a6",
   "metadata": {},
   "outputs": [],
   "source": [
    "predictions.predicted_labels.to_csv(\"../All_scanpyData/All_Immu_Prediction.csv\") "
   ]
  },
  {
   "cell_type": "code",
   "execution_count": 24,
   "id": "75b661d7",
   "metadata": {},
   "outputs": [],
   "source": [
    "adata = predictions.to_adata()"
   ]
  },
  {
   "cell_type": "code",
   "execution_count": 25,
   "id": "81502324",
   "metadata": {},
   "outputs": [
    {
     "data": {
      "text/plain": [
       "AnnData object with n_obs × n_vars = 267657 × 36601\n",
       "    obs: 'Name', 'doublet_scores', 'predicted_doublets', 'predicted_labels', 'over_clustering', 'majority_voting', 'conf_score'\n",
       "    uns: 'log1p', 'neighbors', 'leiden'\n",
       "    obsm: 'X_pca'\n",
       "    obsp: 'connectivities', 'distances'"
      ]
     },
     "execution_count": 25,
     "metadata": {},
     "output_type": "execute_result"
    }
   ],
   "source": [
    "adata"
   ]
  },
  {
   "cell_type": "code",
   "execution_count": 26,
   "id": "5772538d",
   "metadata": {},
   "outputs": [
    {
     "data": {
      "text/html": [
       "<div>\n",
       "<style scoped>\n",
       "    .dataframe tbody tr th:only-of-type {\n",
       "        vertical-align: middle;\n",
       "    }\n",
       "\n",
       "    .dataframe tbody tr th {\n",
       "        vertical-align: top;\n",
       "    }\n",
       "\n",
       "    .dataframe thead th {\n",
       "        text-align: right;\n",
       "    }\n",
       "</style>\n",
       "<table border=\"1\" class=\"dataframe\">\n",
       "  <thead>\n",
       "    <tr style=\"text-align: right;\">\n",
       "      <th></th>\n",
       "      <th>Name</th>\n",
       "      <th>doublet_scores</th>\n",
       "      <th>predicted_doublets</th>\n",
       "      <th>predicted_labels</th>\n",
       "      <th>over_clustering</th>\n",
       "      <th>majority_voting</th>\n",
       "      <th>conf_score</th>\n",
       "    </tr>\n",
       "  </thead>\n",
       "  <tbody>\n",
       "    <tr>\n",
       "      <th>Z48_AAACCTGAGATAGGAG-1</th>\n",
       "      <td>Z48</td>\n",
       "      <td>0.065421</td>\n",
       "      <td>False</td>\n",
       "      <td>Naive B cells</td>\n",
       "      <td>107</td>\n",
       "      <td>Naive B cells</td>\n",
       "      <td>0.868831</td>\n",
       "    </tr>\n",
       "    <tr>\n",
       "      <th>Z48_AAACCTGAGGCACATG-1</th>\n",
       "      <td>Z48</td>\n",
       "      <td>0.150350</td>\n",
       "      <td>False</td>\n",
       "      <td>Late erythroid</td>\n",
       "      <td>254</td>\n",
       "      <td>Erythrocytes</td>\n",
       "      <td>0.669659</td>\n",
       "    </tr>\n",
       "    <tr>\n",
       "      <th>Z48_AAACCTGAGGTGCAAC-1</th>\n",
       "      <td>Z48</td>\n",
       "      <td>0.034215</td>\n",
       "      <td>False</td>\n",
       "      <td>Erythrocytes</td>\n",
       "      <td>136</td>\n",
       "      <td>Erythrocytes</td>\n",
       "      <td>0.656841</td>\n",
       "    </tr>\n",
       "    <tr>\n",
       "      <th>Z48_AAACCTGCAAGAGTCG-1</th>\n",
       "      <td>Z48</td>\n",
       "      <td>0.074860</td>\n",
       "      <td>False</td>\n",
       "      <td>Erythrocytes</td>\n",
       "      <td>278</td>\n",
       "      <td>Erythrocytes</td>\n",
       "      <td>0.393525</td>\n",
       "    </tr>\n",
       "    <tr>\n",
       "      <th>Z48_AAACCTGCACACCGAC-1</th>\n",
       "      <td>Z48</td>\n",
       "      <td>0.215596</td>\n",
       "      <td>False</td>\n",
       "      <td>Late erythroid</td>\n",
       "      <td>167</td>\n",
       "      <td>Erythrocytes</td>\n",
       "      <td>0.780110</td>\n",
       "    </tr>\n",
       "    <tr>\n",
       "      <th>...</th>\n",
       "      <td>...</td>\n",
       "      <td>...</td>\n",
       "      <td>...</td>\n",
       "      <td>...</td>\n",
       "      <td>...</td>\n",
       "      <td>...</td>\n",
       "      <td>...</td>\n",
       "    </tr>\n",
       "    <tr>\n",
       "      <th>Z123_TTTGTCATCTAACTCT-1</th>\n",
       "      <td>Z123</td>\n",
       "      <td>0.132340</td>\n",
       "      <td>False</td>\n",
       "      <td>Erythrocytes</td>\n",
       "      <td>76</td>\n",
       "      <td>Late erythroid</td>\n",
       "      <td>0.405928</td>\n",
       "    </tr>\n",
       "    <tr>\n",
       "      <th>Z123_TTTGTCATCTACTTAC-1</th>\n",
       "      <td>Z123</td>\n",
       "      <td>0.047110</td>\n",
       "      <td>False</td>\n",
       "      <td>Tcm/Naive helper T cells</td>\n",
       "      <td>313</td>\n",
       "      <td>Tcm/Naive helper T cells</td>\n",
       "      <td>0.879585</td>\n",
       "    </tr>\n",
       "    <tr>\n",
       "      <th>Z123_TTTGTCATCTCCCTGA-1</th>\n",
       "      <td>Z123</td>\n",
       "      <td>0.018881</td>\n",
       "      <td>False</td>\n",
       "      <td>Naive B cells</td>\n",
       "      <td>144</td>\n",
       "      <td>Naive B cells</td>\n",
       "      <td>0.654993</td>\n",
       "    </tr>\n",
       "    <tr>\n",
       "      <th>Z123_TTTGTCATCTGGTATG-1</th>\n",
       "      <td>Z123</td>\n",
       "      <td>0.473171</td>\n",
       "      <td>True</td>\n",
       "      <td>Classical monocytes</td>\n",
       "      <td>45</td>\n",
       "      <td>Classical monocytes</td>\n",
       "      <td>0.721308</td>\n",
       "    </tr>\n",
       "    <tr>\n",
       "      <th>Z123_TTTGTCATCTGGTGTA-1</th>\n",
       "      <td>Z123</td>\n",
       "      <td>0.114286</td>\n",
       "      <td>False</td>\n",
       "      <td>Late erythroid</td>\n",
       "      <td>185</td>\n",
       "      <td>Erythrocytes</td>\n",
       "      <td>0.183755</td>\n",
       "    </tr>\n",
       "  </tbody>\n",
       "</table>\n",
       "<p>267657 rows × 7 columns</p>\n",
       "</div>"
      ],
      "text/plain": [
       "                         Name  doublet_scores  predicted_doublets  \\\n",
       "Z48_AAACCTGAGATAGGAG-1    Z48        0.065421               False   \n",
       "Z48_AAACCTGAGGCACATG-1    Z48        0.150350               False   \n",
       "Z48_AAACCTGAGGTGCAAC-1    Z48        0.034215               False   \n",
       "Z48_AAACCTGCAAGAGTCG-1    Z48        0.074860               False   \n",
       "Z48_AAACCTGCACACCGAC-1    Z48        0.215596               False   \n",
       "...                       ...             ...                 ...   \n",
       "Z123_TTTGTCATCTAACTCT-1  Z123        0.132340               False   \n",
       "Z123_TTTGTCATCTACTTAC-1  Z123        0.047110               False   \n",
       "Z123_TTTGTCATCTCCCTGA-1  Z123        0.018881               False   \n",
       "Z123_TTTGTCATCTGGTATG-1  Z123        0.473171                True   \n",
       "Z123_TTTGTCATCTGGTGTA-1  Z123        0.114286               False   \n",
       "\n",
       "                                 predicted_labels over_clustering  \\\n",
       "Z48_AAACCTGAGATAGGAG-1              Naive B cells             107   \n",
       "Z48_AAACCTGAGGCACATG-1             Late erythroid             254   \n",
       "Z48_AAACCTGAGGTGCAAC-1               Erythrocytes             136   \n",
       "Z48_AAACCTGCAAGAGTCG-1               Erythrocytes             278   \n",
       "Z48_AAACCTGCACACCGAC-1             Late erythroid             167   \n",
       "...                                           ...             ...   \n",
       "Z123_TTTGTCATCTAACTCT-1              Erythrocytes              76   \n",
       "Z123_TTTGTCATCTACTTAC-1  Tcm/Naive helper T cells             313   \n",
       "Z123_TTTGTCATCTCCCTGA-1             Naive B cells             144   \n",
       "Z123_TTTGTCATCTGGTATG-1       Classical monocytes              45   \n",
       "Z123_TTTGTCATCTGGTGTA-1            Late erythroid             185   \n",
       "\n",
       "                                  majority_voting  conf_score  \n",
       "Z48_AAACCTGAGATAGGAG-1              Naive B cells    0.868831  \n",
       "Z48_AAACCTGAGGCACATG-1               Erythrocytes    0.669659  \n",
       "Z48_AAACCTGAGGTGCAAC-1               Erythrocytes    0.656841  \n",
       "Z48_AAACCTGCAAGAGTCG-1               Erythrocytes    0.393525  \n",
       "Z48_AAACCTGCACACCGAC-1               Erythrocytes    0.780110  \n",
       "...                                           ...         ...  \n",
       "Z123_TTTGTCATCTAACTCT-1            Late erythroid    0.405928  \n",
       "Z123_TTTGTCATCTACTTAC-1  Tcm/Naive helper T cells    0.879585  \n",
       "Z123_TTTGTCATCTCCCTGA-1             Naive B cells    0.654993  \n",
       "Z123_TTTGTCATCTGGTATG-1       Classical monocytes    0.721308  \n",
       "Z123_TTTGTCATCTGGTGTA-1              Erythrocytes    0.183755  \n",
       "\n",
       "[267657 rows x 7 columns]"
      ]
     },
     "execution_count": 26,
     "metadata": {},
     "output_type": "execute_result"
    }
   ],
   "source": [
    "adata.obs"
   ]
  },
  {
   "cell_type": "markdown",
   "id": "984ac330",
   "metadata": {},
   "source": [
    "### Save First Data"
   ]
  },
  {
   "cell_type": "code",
   "execution_count": 27,
   "id": "ca636b64",
   "metadata": {},
   "outputs": [],
   "source": [
    "!mkdir -p \"/home/maolp/data5/Gaofeng_All_matrix/Allcount/All_scanpyData\""
   ]
  },
  {
   "cell_type": "code",
   "execution_count": 28,
   "id": "103f65aa",
   "metadata": {},
   "outputs": [
    {
     "name": "stderr",
     "output_type": "stream",
     "text": [
      "... storing 'Name' as categorical\n"
     ]
    }
   ],
   "source": [
    "adata_m.write(\"/home/maolp/data5/Gaofeng_All_matrix/Allcount/All_scanpyData/D1_scanpy_merge_doubulet.h5ad\")"
   ]
  },
  {
   "cell_type": "code",
   "execution_count": 29,
   "id": "806dcafb",
   "metadata": {},
   "outputs": [],
   "source": [
    "adata.write(\"/home/maolp/data5/Gaofeng_All_matrix/Allcount//All_scanpyData/D1_scanpy_merge_doubulet_celltypist.h5ad\")"
   ]
  }
 ],
 "metadata": {
  "kernelspec": {
   "display_name": "Python 3 (ipykernel)",
   "language": "python",
   "name": "python3"
  },
  "language_info": {
   "codemirror_mode": {
    "name": "ipython",
    "version": 3
   },
   "file_extension": ".py",
   "mimetype": "text/x-python",
   "name": "python",
   "nbconvert_exporter": "python",
   "pygments_lexer": "ipython3",
   "version": "3.9.16"
  }
 },
 "nbformat": 4,
 "nbformat_minor": 5
}
