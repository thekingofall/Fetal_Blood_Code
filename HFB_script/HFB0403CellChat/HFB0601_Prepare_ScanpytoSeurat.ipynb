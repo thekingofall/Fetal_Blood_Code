{
 "cells": [
  {
   "cell_type": "code",
   "execution_count": 6,
   "id": "4f4c7817",
   "metadata": {},
   "outputs": [],
   "source": [
    "import scanpy as sc"
   ]
  },
  {
   "cell_type": "code",
   "execution_count": 7,
   "id": "642239ad",
   "metadata": {},
   "outputs": [],
   "source": [
    "import diopy"
   ]
  },
  {
   "cell_type": "code",
   "execution_count": 8,
   "id": "41ceb577",
   "metadata": {},
   "outputs": [],
   "source": [
    "adata1=sc.read_h5ad('/home/maolp/data5/Gaofeng_All_matrix/Allcount/All_scanpyData/Data/Scanpy_merge_rmdoubulet_UMAP_label_lastCell.h5ad')"
   ]
  },
  {
   "cell_type": "code",
   "execution_count": null,
   "id": "7eabee2b",
   "metadata": {},
   "outputs": [],
   "source": []
  },
  {
   "cell_type": "code",
   "execution_count": 9,
   "id": "5bc70791",
   "metadata": {},
   "outputs": [
    {
     "name": "stderr",
     "output_type": "stream",
     "text": [
      "/tmp/ipykernel_60113/98567275.py:1: UserWarning: Pandas doesn't allow columns to be created via a new attribute name - see https://pandas.pydata.org/pandas-docs/stable/indexing.html#attribute-access\n",
      "  adata1.obs.AdjustedIDoldweek=adata1.obs.AdjustedID\n"
     ]
    }
   ],
   "source": [
    "adata1.obs.AdjustedIDoldweek=adata1.obs.AdjustedID"
   ]
  },
  {
   "cell_type": "code",
   "execution_count": 10,
   "id": "d84d41c5",
   "metadata": {},
   "outputs": [],
   "source": [
    "# in python\n",
    "diopy.output.write_h5(adata1, file = '/home/maolp/data5/Gaofeng_All_matrix/Allcount/All_scanpyData/Data/scdata.h5')"
   ]
  }
 ],
 "metadata": {
  "kernelspec": {
   "display_name": "Python 3 (ipykernel)",
   "language": "python",
   "name": "python3"
  },
  "language_info": {
   "codemirror_mode": {
    "name": "ipython",
    "version": 3
   },
   "file_extension": ".py",
   "mimetype": "text/x-python",
   "name": "python",
   "nbconvert_exporter": "python",
   "pygments_lexer": "ipython3",
   "version": "3.9.16"
  }
 },
 "nbformat": 4,
 "nbformat_minor": 5
}
