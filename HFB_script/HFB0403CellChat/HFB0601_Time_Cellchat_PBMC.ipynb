{
 "cells": [
  {
   "cell_type": "code",
   "execution_count": 27,
   "id": "a81e311d",
   "metadata": {},
   "outputs": [
    {
     "name": "stdout",
     "output_type": "stream",
     "text": [
      "The rpy2.ipython extension is already loaded. To reload it, use:\n",
      "  %reload_ext rpy2.ipython\n"
     ]
    }
   ],
   "source": [
    "%load_ext rpy2.ipython"
   ]
  },
  {
   "cell_type": "code",
   "execution_count": 2,
   "id": "60ccadab",
   "metadata": {},
   "outputs": [],
   "source": [
    "%%R\n",
    "library(tidyverse)\n",
    "# library(Seurat)\n",
    "library(CellChat)\n"
   ]
  },
  {
   "cell_type": "code",
   "execution_count": null,
   "id": "442af56d",
   "metadata": {},
   "outputs": [],
   "source": []
  },
  {
   "cell_type": "code",
   "execution_count": 3,
   "id": "66df3d01",
   "metadata": {},
   "outputs": [],
   "source": [
    "import scanpy as sc\n",
    "import diopy\n",
    "# diopy.output.write_h5(data_py, file = 'scdata.h5')"
   ]
  },
  {
   "cell_type": "code",
   "execution_count": 4,
   "id": "c5295b43",
   "metadata": {},
   "outputs": [],
   "source": [
    "adata1=sc.read_h5ad('/home/maolp/data5/Gaofeng_All_matrix/Allcount/All_scanpyData/Data/Scanpy_merge_rmdoubulet_UMAP_label_lastCell.h5ad')"
   ]
  },
  {
   "cell_type": "code",
   "execution_count": 5,
   "id": "187b6e97",
   "metadata": {},
   "outputs": [],
   "source": [
    "# diopy.output.write_h5(data_py, file = 'scdata.h5')\n",
    "# in python\n",
    "diopy.output.write_h5(adata1, file = '/home/maolp/data5/Gaofeng_All_matrix/Allcount/All_scanpyData/Data/scdata.h5')"
   ]
  },
  {
   "cell_type": "code",
   "execution_count": 6,
   "id": "13295e8c",
   "metadata": {},
   "outputs": [],
   "source": [
    "import scanpy as sc\n",
    "adata1=sc.read_h5ad(\"/home/maolp/data5/Gaofeng_All_matrix/Allcount/All_scanpyData/Data/Scanpy_merge_rmdoubulet_UMAP_label_lastCell.h5ad\")"
   ]
  },
  {
   "cell_type": "code",
   "execution_count": 7,
   "id": "d77a4ddf",
   "metadata": {},
   "outputs": [],
   "source": [
    "adata1.obs.to_csv(\"/home/maolp/Main_Gao_ScanpyProject20231130/Figure_plot/Figure2sup_Cellchat/Gao_Cellchat/CellChatData/adata1_umap_obsdata.csv\")"
   ]
  },
  {
   "cell_type": "code",
   "execution_count": 8,
   "id": "bfa3053f",
   "metadata": {},
   "outputs": [],
   "source": [
    "%%R\n",
    "# in R\n",
    "# '/home/maolp/data5/Gaofeng_All_matrix/Allcount/All_scanpyData/Data/scdata.h5'\n",
    "adata1 = dior::read_h5(file='/home/maolp/data5/Gaofeng_All_matrix/Allcount/All_scanpyData/Data/scdata.h5', target.object = 'seurat')"
   ]
  },
  {
   "cell_type": "code",
   "execution_count": 9,
   "id": "0efe2747",
   "metadata": {},
   "outputs": [],
   "source": [
    "%%R\n",
    "saveRDS(adata1,'/home/maolp/data5/Gaofeng_All_matrix/Allcount/All_scanpyData/Data/scdata.rds')"
   ]
  },
  {
   "cell_type": "code",
   "execution_count": 10,
   "id": "69f1c5e1",
   "metadata": {},
   "outputs": [],
   "source": [
    "%%R\n",
    "head(adata1@meta.data)"
   ]
  },
  {
   "cell_type": "code",
   "execution_count": 11,
   "id": "b1de65e4",
   "metadata": {},
   "outputs": [],
   "source": [
    "%%R\n",
    "unique(adata1@meta.data$AdjustedID)"
   ]
  },
  {
   "cell_type": "code",
   "execution_count": 12,
   "id": "d1371826",
   "metadata": {},
   "outputs": [],
   "source": [
    "%%R\n",
    "unique(adata1@meta.data$AdjustedIDoldweek)"
   ]
  },
  {
   "cell_type": "code",
   "execution_count": null,
   "id": "dee821a6",
   "metadata": {},
   "outputs": [],
   "source": []
  },
  {
   "cell_type": "code",
   "execution_count": 13,
   "id": "a320a816",
   "metadata": {},
   "outputs": [],
   "source": [
    "%%R\n",
    "\n",
    "library(dplyr)\n",
    "library(stringr)\n",
    "\n",
    "\n",
    "adata1@meta.data <- adata1@meta.data %>% mutate(\n",
    "  Category = case_when(\n",
    "    # Identify the initial letter\n",
    "    str_detect(AdjustedID, \"^B\") ~ \"PBMC\",\n",
    "    str_detect(AdjustedID, \"^L\") ~ \"Liver\",\n",
    "    str_detect(AdjustedID, \"^T\") ~ \"Thymus\",\n",
    "    str_detect(AdjustedID, \"^S\") ~ \"Spleen\",\n",
    "    TRUE ~ \"Other\"  # for any other cases\n",
    "  ),\n",
    "  NumericPart = as.numeric(str_extract(AdjustedID, \"\\\\d+\\\\.\\\\d+\")),  # extract the numeric part\n",
    "  Stage = ifelse(NumericPart <= 26, \"Early\", \"Late\")  # classify as \"Early\" or \"Late\"\n",
    ")"
   ]
  },
  {
   "cell_type": "code",
   "execution_count": 14,
   "id": "dcdc8e41",
   "metadata": {},
   "outputs": [],
   "source": [
    "%%R\n",
    "adata1@meta.data$GroupStat<-paste0(adata1@meta.data$Category,\"_\",adata1@meta.data$Stage)"
   ]
  },
  {
   "cell_type": "code",
   "execution_count": 15,
   "id": "84e5e43f",
   "metadata": {},
   "outputs": [],
   "source": [
    "%%R\n",
    "unique(adata1$GroupStat)\n",
    "# unique(adata1$Cell_lineage)\n",
    "# subadata1<-subset(adata1,Cell_lineage !=\"OTHERS\")\n",
    "subadata1<-adata1"
   ]
  },
  {
   "cell_type": "code",
   "execution_count": 16,
   "id": "6928651e",
   "metadata": {},
   "outputs": [],
   "source": [
    "%%R\n",
    "process_cellchat233 <- function(adata,  id_value) {\n",
    "  subset_data <- subset(adata, GroupStat== id_value)\n",
    "  data.pbmc <- subset_data@assays$RNA@data\n",
    "  # Use cell_type_label as the name of the column to use for group labels\n",
    "  cellmeta <- data.frame(group = as.character(subset_data$Last_cell_type), row.names = names(subset_data$Last_cell_type))\n",
    "#   print(\"test3\")\n",
    "  print(paste(\"Cellmeta rows: \", nrow(cellmeta)))\n",
    "  print(paste(\"Subset data cells: \", length(subset_data@meta.data$Last_cell_type)))\n",
    "  cellchat <- createCellChat(object = data.pbmc)\n",
    "  cellchat <- addMeta(cellchat, meta = cellmeta, meta.name = \"labels\")\n",
    "  cellchat <- setIdent(cellchat, ident.use = \"labels\")\n",
    "  \n",
    "  CellChatDB <- CellChatDB.human\n",
    "  CellChatDB.use <- subsetDB(CellChatDB, search = \"Cell-Cell Contact\", key = \"annotation\")\n",
    "  cellchat@DB <- CellChatDB.use\n",
    "  \n",
    "  cellchat <- subsetData(cellchat)\n",
    "  cellchat <- identifyOverExpressedGenes(cellchat)\n",
    "  cellchat <- identifyOverExpressedInteractions(cellchat)\n",
    "  cellchat <- projectData(cellchat, PPI.human)\n",
    "\n",
    "  cellchat <- computeCommunProb(cellchat)\n",
    "  cellchat <- computeCommunProbPathway(cellchat)\n",
    "  cellchat <- aggregateNet(cellchat)\n",
    "  \n",
    "  return(cellchat)\n",
    "}\n",
    "\n",
    "# Get a list of all unique AdjustedID values\n",
    "# # adjusted_ids <- unique(adata1$AdjustedID)\n",
    "# GroupStat_ids <- c( \"PBMC_Early\",\"PBMC_Late\"  )\n",
    "# PBMC_Early=process_cellchat233(subadata1,\"PBMC_Early\")\n"
   ]
  },
  {
   "cell_type": "code",
   "execution_count": 17,
   "id": "824093c6",
   "metadata": {},
   "outputs": [],
   "source": [
    "\n",
    "# ls -lh\n"
   ]
  },
  {
   "cell_type": "code",
   "execution_count": 18,
   "id": "6ce3170b",
   "metadata": {},
   "outputs": [],
   "source": [
    "%%R\n",
    "adjusted_ids <- levels(adata1$AdjustedID)\n",
    "\n",
    "adjusted_ids"
   ]
  },
  {
   "cell_type": "code",
   "execution_count": 19,
   "id": "b89fba27",
   "metadata": {},
   "outputs": [],
   "source": [
    "mkdir -p /home/maolp/Allcount/All_scanpyData/Cellchat"
   ]
  },
  {
   "cell_type": "code",
   "execution_count": 20,
   "id": "009386b1",
   "metadata": {},
   "outputs": [],
   "source": [
    "%%R\n",
    "GroupStat_ids <- c( \"PBMC_Early\",\"PBMC_Late\"  )\n",
    "# PBMC_late=process_cellchat233(subadata1,\"PBMC_Late\")\n",
    "\n",
    "# results <- lapply(adjusted_ids, function(id) process_cellchat233(adata1, id))\n",
    "GroupStat_res=lapply(GroupStat_ids , function(id) process_cellchat233(subadata1,id))\n",
    "saveRDS(GroupStat_res, file = \"/home/maolp/Allcount/All_scanpyData/Cellchat/PBMC_cellchat.rds\")"
   ]
  },
  {
   "cell_type": "code",
   "execution_count": null,
   "id": "431c0663",
   "metadata": {},
   "outputs": [],
   "source": [
    "%%R\n",
    "GroupStat_res=readRDS( \"/home/maolp/Allcount/All_scanpyData/Cellchat/PBMC_cellchat.rds\")"
   ]
  },
  {
   "cell_type": "code",
   "execution_count": null,
   "id": "264c92c8",
   "metadata": {},
   "outputs": [],
   "source": []
  },
  {
   "cell_type": "code",
   "execution_count": null,
   "id": "9224cc45",
   "metadata": {},
   "outputs": [],
   "source": [
    "%%R\n",
    "# GroupStat_ids"
   ]
  },
  {
   "cell_type": "code",
   "execution_count": null,
   "id": "f01387d3",
   "metadata": {},
   "outputs": [],
   "source": [
    "%%R\n",
    "GroupStat_res2<-list(GroupStat_res[[2]],GroupStat_res[[1]])\n",
    "PBMC_cellchat2 <- mergeCellChat(GroupStat_res2, add.names = c( \"PBMC_Late\" ,\"PBMC_Early\" ))"
   ]
  },
  {
   "cell_type": "code",
   "execution_count": null,
   "id": "d21c8b18",
   "metadata": {
    "scrolled": false
   },
   "outputs": [],
   "source": [
    "%%R -w 3000 -h 3000 -r 300\n",
    "\n",
    "netVisual_diffInteraction(PBMC_cellchat2  , weight.scale = T, measure = \"weight\")\n",
    "# N1+N2"
   ]
  },
  {
   "cell_type": "code",
   "execution_count": null,
   "id": "9696dcbf",
   "metadata": {},
   "outputs": [],
   "source": [
    "%%R -w 3000 -h 3000 -r 300\n",
    "# netVisual_diffInteraction(PBMC_cellchat  , weight.scale = T)\n",
    "N1=netVisual_diffInteraction(PBMC_cellchat2  , weight.scale = T)"
   ]
  },
  {
   "cell_type": "code",
   "execution_count": null,
   "id": "47432eb7",
   "metadata": {},
   "outputs": [],
   "source": [
    "%%R\n",
    "PBMC_cellchat <- mergeCellChat(GroupStat_res, add.names =c( \"PBMC_Early\",\"PBMC_Late\"  ))\n"
   ]
  },
  {
   "cell_type": "code",
   "execution_count": null,
   "id": "c9eb48db",
   "metadata": {},
   "outputs": [],
   "source": [
    "%%R -w 3000 -h 3000 -r 300\n",
    "\n",
    "N2=netVisual_diffInteraction(PBMC_cellchat  , weight.scale = T, measure = \"weight\")\n",
    "# N1+N2"
   ]
  },
  {
   "cell_type": "code",
   "execution_count": null,
   "id": "f35dbd5b",
   "metadata": {
    "scrolled": false
   },
   "outputs": [],
   "source": [
    "%%R -w 3000 -h 3000 -r 300\n",
    "# netVisual_diffInteraction(PBMC_cellchat  , weight.scale = T)\n",
    "N1=netVisual_diffInteraction(PBMC_cellchat2  , weight.scale = T)"
   ]
  },
  {
   "cell_type": "code",
   "execution_count": null,
   "id": "0313384a",
   "metadata": {},
   "outputs": [],
   "source": [
    "mkdir -p /home/maolp/Allcount/All_scanpyData/Cellchat"
   ]
  },
  {
   "cell_type": "code",
   "execution_count": null,
   "id": "480064d0",
   "metadata": {},
   "outputs": [],
   "source": [
    "%%R\n",
    "str(PBMC_cellchat2@net)\n",
    "# levels(PBMC_cellchat2@idents$PBMC_Late)"
   ]
  },
  {
   "cell_type": "code",
   "execution_count": null,
   "id": "57c8f688",
   "metadata": {},
   "outputs": [],
   "source": [
    "%%R\n"
   ]
  },
  {
   "cell_type": "code",
   "execution_count": null,
   "id": "de510071",
   "metadata": {},
   "outputs": [],
   "source": [
    "%%R\n",
    "netVisual_heatmap666<-function (object, comparison = c(1, 2), measure = c(\"count\", \n",
    "    \"weight\"), signaling = NULL, slot.name = c(\"netP\", \"net\"), \n",
    "    color.use = NULL, color.heatmap = c(\"#2166ac\", \"#b2182b\"), \n",
    "    title.name = NULL, width = NULL, height = NULL, font.size = 8, \n",
    "    font.size.title = 10, cluster.rows = FALSE, cluster.cols = FALSE, \n",
    "    sources.use = NULL, targets.use = NULL, remove.isolate = FALSE, \n",
    "    row.show = NULL, col.show = NULL) \n",
    "{\n",
    "    if (!is.null(measure)) {\n",
    "        measure <- match.arg(measure)\n",
    "    }\n",
    "    slot.name <- match.arg(slot.name)\n",
    "    if (is.list(object@net[[1]])) {\n",
    "        message(\"Do heatmap based on a merged object \\n\")\n",
    "        obj1 <- object@net[[comparison[1]]][[measure]][cell_types_list ,cell_types_list ]\n",
    "        obj2 <- object@net[[comparison[2]]][[measure]][cell_types_list ,cell_types_list ]\n",
    "        net.diff <- obj2 - obj1\n",
    "        if (measure == \"count\") {\n",
    "            if (is.null(title.name)) {\n",
    "                title.name = \"Differential number of interactions\"\n",
    "            }\n",
    "        }\n",
    "        else if (measure == \"weight\") {\n",
    "            if (is.null(title.name)) {\n",
    "                title.name = \"Differential interaction strength\"\n",
    "            }\n",
    "        }\n",
    "        legend.name = \"Relative values\"\n",
    "    }\n",
    "    else {\n",
    "        message(\"Do heatmap based on a single object \\n\")\n",
    "        if (!is.null(signaling)) {\n",
    "            net.diff <- slot(object, slot.name)$prob[, , signaling]\n",
    "            if (is.null(title.name)) {\n",
    "                title.name = paste0(signaling, \" signaling network\")\n",
    "            }\n",
    "            legend.name <- \"Communication Prob.\"\n",
    "        }\n",
    "        else if (!is.null(measure)) {\n",
    "            net.diff <- object@net[[measure]]\n",
    "            if (measure == \"count\") {\n",
    "                if (is.null(title.name)) {\n",
    "                  title.name = \"Number of interactions\"\n",
    "                }\n",
    "            }\n",
    "            else if (measure == \"weight\") {\n",
    "                if (is.null(title.name)) {\n",
    "                  title.name = \"Interaction strength\"\n",
    "                }\n",
    "            }\n",
    "            legend.name <- title.name\n",
    "        }\n",
    "    }\n",
    "    net <- net.diff\n",
    "    if ((!is.null(sources.use)) | (!is.null(targets.use))) {\n",
    "        df.net <- reshape2::melt(net, value.name = \"value\")\n",
    "        colnames(df.net)[1:2] <- c(\"source\", \"target\")\n",
    "        if (!is.null(sources.use)) {\n",
    "            if (is.numeric(sources.use)) {\n",
    "                sources.use <- rownames(net.diff)[sources.use]\n",
    "            }\n",
    "            df.net <- subset(df.net, source %in% sources.use)\n",
    "        }\n",
    "        if (!is.null(targets.use)) {\n",
    "            if (is.numeric(targets.use)) {\n",
    "                targets.use <- rownames(net.diff)[targets.use]\n",
    "            }\n",
    "            df.net <- subset(df.net, target %in% targets.use)\n",
    "        }\n",
    "        cells.level <- rownames(net.diff)\n",
    "        df.net$source <- factor(df.net$source, levels = cells.level)\n",
    "        df.net$target <- factor(df.net$target, levels = cells.level)\n",
    "        df.net$value[is.na(df.net$value)] <- 0\n",
    "        net <- tapply(df.net[[\"value\"]], list(df.net[[\"source\"]], \n",
    "            df.net[[\"target\"]]), sum)\n",
    "    }\n",
    "    net[is.na(net)] <- 0\n",
    "    if (remove.isolate) {\n",
    "        idx1 <- which(Matrix::rowSums(net) == 0)\n",
    "        idx2 <- which(Matrix::colSums(net) == 0)\n",
    "        idx <- intersect(idx1, idx2)\n",
    "        if (length(idx) > 0) {\n",
    "            net <- net[-idx, ]\n",
    "            net <- net[, -idx]\n",
    "        }\n",
    "    }\n",
    "    mat <- net\n",
    "    if (is.null(color.use)) {\n",
    "        color.use <- scPalette(ncol(mat))\n",
    "    }\n",
    "    names(color.use) <- colnames(mat)\n",
    "    if (!is.null(row.show)) {\n",
    "        mat <- mat[row.show, ]\n",
    "    }\n",
    "    if (!is.null(col.show)) {\n",
    "        mat <- mat[, col.show]\n",
    "        color.use <- color.use[col.show]\n",
    "    }\n",
    "    if (min(mat) < 0) {\n",
    "        color.heatmap.use = colorRamp3(c(min(mat), 0, max(mat)), \n",
    "            c(color.heatmap[1], \"#f7f7f7\", color.heatmap[2]))\n",
    "        colorbar.break <- c(round(min(mat, na.rm = T), digits = nchar(sub(\".*\\\\.(0*).*\", \n",
    "            \"\\\\1\", min(mat, na.rm = T))) + 1), 0, round(max(mat, \n",
    "            na.rm = T), digits = nchar(sub(\".*\\\\.(0*).*\", \"\\\\1\", \n",
    "            max(mat, na.rm = T))) + 1))\n",
    "    }\n",
    "    else {\n",
    "        if (length(color.heatmap) == 3) {\n",
    "            color.heatmap.use = colorRamp3(c(0, min(mat), max(mat)), \n",
    "                color.heatmap)\n",
    "        }\n",
    "        else if (length(color.heatmap) == 2) {\n",
    "            color.heatmap.use = colorRamp3(c(min(mat), max(mat)), \n",
    "                color.heatmap)\n",
    "        }\n",
    "        else if (length(color.heatmap) == 1) {\n",
    "            color.heatmap.use = (grDevices::colorRampPalette((RColorBrewer::brewer.pal(n = 9, \n",
    "                name = color.heatmap))))(100)\n",
    "        }\n",
    "        colorbar.break <- c(round(min(mat, na.rm = T), digits = nchar(sub(\".*\\\\.(0*).*\", \n",
    "            \"\\\\1\", min(mat, na.rm = T))) + 1), round(max(mat, \n",
    "            na.rm = T), digits = nchar(sub(\".*\\\\.(0*).*\", \"\\\\1\", \n",
    "            max(mat, na.rm = T))) + 1))\n",
    "    }\n",
    "    df <- data.frame(group = colnames(mat))\n",
    "    rownames(df) <- colnames(mat)\n",
    "    col_annotation <- HeatmapAnnotation(df = df, col = list(group = color.use), \n",
    "        which = \"column\", show_legend = FALSE, show_annotation_name = FALSE, \n",
    "        simple_anno_size = grid::unit(0.2, \"cm\"))\n",
    "    row_annotation <- HeatmapAnnotation(df = df, col = list(group = color.use), \n",
    "        which = \"row\", show_legend = FALSE, show_annotation_name = FALSE, \n",
    "        simple_anno_size = grid::unit(0.2, \"cm\"))\n",
    "    ha1 = rowAnnotation(Strength = anno_barplot(rowSums(abs(mat)), \n",
    "        border = FALSE, gp = gpar(fill = color.use, col = color.use)), \n",
    "        show_annotation_name = FALSE)\n",
    "    ha2 = HeatmapAnnotation(Strength = anno_barplot(colSums(abs(mat)), \n",
    "        border = FALSE, gp = gpar(fill = color.use, col = color.use)), \n",
    "        show_annotation_name = FALSE)\n",
    "    if (sum(abs(mat) > 0) == 1) {\n",
    "        color.heatmap.use = c(\"white\", color.heatmap.use)\n",
    "    }\n",
    "    else {\n",
    "        mat[mat == 0] <- NA\n",
    "    }\n",
    "    ht1 = Heatmap(mat, col = color.heatmap.use, na_col = \"white\", \n",
    "        name = legend.name, bottom_annotation = col_annotation, \n",
    "        left_annotation = row_annotation, top_annotation = ha2, \n",
    "        right_annotation = ha1, cluster_rows = cluster.rows, \n",
    "        cluster_columns = cluster.rows, row_names_side = \"left\", \n",
    "        row_names_rot = 0, row_names_gp = gpar(fontsize = font.size), \n",
    "        column_names_gp = gpar(fontsize = font.size), column_title = title.name, \n",
    "        column_title_gp = gpar(fontsize = font.size.title), column_names_rot = 90, \n",
    "        row_title = \"Sources (Sender)\", row_title_gp = gpar(fontsize = font.size.title), \n",
    "        row_title_rot = 90, heatmap_legend_param = list(title_gp = gpar(fontsize = 8, \n",
    "            fontface = \"plain\"), title_position = \"leftcenter-rot\", \n",
    "            border = NA, legend_height = unit(20, \"mm\"), labels_gp = gpar(fontsize = 8), \n",
    "            grid_width = unit(2, \"mm\")))\n",
    "    return(list(ht1=ht1,mat = mat,  ha2= ha2,ha1=ha1,legend.name,row_annotation = row_annotation, color_info = color.heatmap.use, cluster_rows = cluster.rows))\n",
    "}\n",
    "\n",
    "# 如何将这个内容除了最后画图的那部分都返回来"
   ]
  },
  {
   "cell_type": "code",
   "execution_count": null,
   "id": "ff41b700",
   "metadata": {},
   "outputs": [],
   "source": [
    "%%R\n",
    "cell_types_list = c(\n",
    "    \"HSC_MPP\",\n",
    "    \n",
    "    \"MEP\",\n",
    "    \"MEMP\",\n",
    "    \"Pro-B\",\n",
    "    \"Small pre-B\",\n",
    "    \n",
    "    \"CXCR5- Naïve B\",\n",
    "    \"CXCR5+ Naïve B\",\n",
    "\n",
    " \n",
    "    \"Treg\",\n",
    "    \n",
    "    \"Cycling Treg\",\n",
    "  \n",
    "    \"Naïve CD4 T\",\n",
    "    \"Naïve CD8 T\",\n",
    "    \n",
    "    \n",
    "    'Tem',\n",
    "        \"Th17like_INNATE_T\",\n",
    "        'NK T',\n",
    "        \"Gamma Delta V1 T\",\n",
    "    \"Gamma Delta V2 T\",\n",
    "    \n",
    "\n",
    "\n",
    "     \"ILC2/3\",\n",
    "\n",
    "\n",
    "    \"CX3CR1+ NK\",\n",
    "    \n",
    "    \"CXCR6+ NK\",\n",
    "    \"CD56highCD16low NK\",\n",
    "\n",
    "    \n",
    "    \"Myeloid-CD177\",\n",
    "    \"Classical Monocytes\",\n",
    "    \"CD14+PPBP+ Monocytes\",\n",
    "    \"DC1\",\n",
    "    \"DC2\",\n",
    "    \"pDC\",\n",
    "\n",
    "    \"Megakaryocytes\",\n",
    "\n",
    "    \n",
    "    \"Early_ERY\",\n",
    "    \"Mid_ERY\",\n",
    "    \"Late_ERY\",\n",
    "\n",
    "     \"Others\"\n",
    "\n",
    "\n",
    ")\n"
   ]
  },
  {
   "cell_type": "code",
   "execution_count": null,
   "id": "d42e6a0e",
   "metadata": {},
   "outputs": [],
   "source": [
    "%%R -w 6000 -h 3000 -r 500\n",
    "library(gridExtra)\n",
    "gg1 <- netVisual_heatmap666(PBMC_cellchat2,cluster.rows=F)$ht1\n",
    "#> Do heatmap based on a merged object\n",
    "gg2 <- netVisual_heatmap666(PBMC_cellchat2, measure = \"weight\")$ht1\n",
    "\n",
    "# pdf(file = \"/home/maolp/Allcount/All_scanpyData/Cellchat/gg3.pdf\", width = 10, height = 5)\n",
    "\n",
    "print(gg1+gg2)\n",
    "# print(gg1)\n",
    "\n",
    "\n",
    "# dev.off()"
   ]
  },
  {
   "cell_type": "code",
   "execution_count": null,
   "id": "2abfcbd9",
   "metadata": {},
   "outputs": [],
   "source": [
    "%%R\n",
    "setdiff(cell_types_list,colnames(PBMC_cellchat2@net[[c(1,2)[1]]][[\"count\"]]))"
   ]
  },
  {
   "cell_type": "code",
   "execution_count": null,
   "id": "e2ef4497",
   "metadata": {},
   "outputs": [],
   "source": [
    "# %%R\n",
    "# htone = Heatmap(run1$mat, col = run1$color_info, na_col = \"white\", \n",
    "#         name = run1$legend.name, bottom_annotation = run1$col_annotation, \n",
    "#         left_annotation = run1$row_annotation, top_annotation = run1$ha2, \n",
    "#         right_annotation = run1$ha1, cluster_rows = F, \n",
    "#         cluster_columns = F, row_names_side = \"left\", \n",
    "#         row_names_rot = 0, row_names_gp = gpar(fontsize = 8), \n",
    "#         column_names_gp = gpar(fontsize =8), column_title = NULL, \n",
    "#         column_title_gp = gpar(fontsize =8), column_names_rot = 90, \n",
    "#         row_title = \"Sources (Sender)\", row_title_gp = gpar(fontsize = 10), \n",
    "#         row_title_rot = 90, heatmap_legend_param = list(title_gp = gpar(fontsize = 8, \n",
    "#             fontface = \"plain\"), title_position = \"leftcenter-rot\", \n",
    "#             border = NA, legend_height = unit(20, \"mm\"), labels_gp = gpar(fontsize = 8), \n",
    "#             grid_width = unit(2, \"mm\")))\n",
    "# htone"
   ]
  },
  {
   "cell_type": "code",
   "execution_count": null,
   "id": "7e7ea483",
   "metadata": {
    "scrolled": false
   },
   "outputs": [],
   "source": [
    "%%R -w 6000 -h 3000 -r 500\n",
    "library(gridExtra)\n",
    "gg1 <- netVisual_heatmap(PBMC_cellchat2,cluster.rows=F)\n",
    "#> Do heatmap based on a merged object\n",
    "gg2 <- netVisual_heatmap(PBMC_cellchat2, measure = \"weight\")\n",
    "\n",
    "# pdf(file = \"/home/maolp/Allcount/All_scanpyData/Cellchat/gg3.pdf\", width = 10, height = 5)\n",
    "\n",
    "print(gg1+gg2)\n",
    "# print(gg1)\n",
    "\n",
    "\n",
    "# dev.off()"
   ]
  },
  {
   "cell_type": "code",
   "execution_count": null,
   "id": "45fc0546",
   "metadata": {},
   "outputs": [],
   "source": []
  },
  {
   "cell_type": "code",
   "execution_count": null,
   "id": "6f0d4de4",
   "metadata": {},
   "outputs": [],
   "source": [
    "%%R\n",
    "# gg3"
   ]
  },
  {
   "cell_type": "code",
   "execution_count": null,
   "id": "6f96830c",
   "metadata": {},
   "outputs": [],
   "source": [
    "%%R -w 2000 -h 1000 -r 300\n",
    "gg1 <- compareInteractions(PBMC_cellchat, show.legend = F, group = c(1,2), color.use =c(\"#37BDA8\",\"#525DAC\"))\n",
    "gg2 <- compareInteractions(PBMC_cellchat, show.legend = F, group = c(1,2), measure = \"weight\", color.use =c(\"#37BDA8\",\"#525DAC\"))\n",
    "gg1 + gg2"
   ]
  },
  {
   "cell_type": "code",
   "execution_count": null,
   "id": "ec1fa81d",
   "metadata": {
    "scrolled": false
   },
   "outputs": [],
   "source": [
    "%%R\n",
    "# netVisual_bubble"
   ]
  },
  {
   "cell_type": "code",
   "execution_count": null,
   "id": "51ad1ada",
   "metadata": {},
   "outputs": [],
   "source": [
    "%%R -w 5000 -h 3000 -r 300\n",
    "netVisual_bubble(PBMC_cellchat2, sources.use = c(1:40) , targets.use =c(1),comparison = c(2,1), angle.x = 45,color.text =c(\"#37BDA8\",\"#525DAC\"))+coord_flip()\n",
    "#> Comparing communications on a merged object"
   ]
  },
  {
   "cell_type": "code",
   "execution_count": null,
   "id": "dec96fa5",
   "metadata": {},
   "outputs": [],
   "source": [
    "# %%R -w 3000 -h 3000 -r 300\n",
    "# object.list=GroupStat_res2\n",
    "# num.link <- sapply(object.list, function(x) {rowSums(x@net$count) + colSums(x@net$count)-diag(x@net$count)})\n",
    "# weight.MinMax <- c(min(num.link), max(num.link)) # control the dot size in the different datasets9\n",
    "# gg <- list()\n",
    "# for (i in 1:length(object.list)) {\n",
    "#   gg[[i]] <- netAnalysis_signalingRole_scatter(object.list[[i]], title = names(object.list)[i], weight.MinMax = weight.MinMax)\n",
    "# }\n",
    "# #> Signaling role analysis on the aggregated cell-cell communication network from all signaling pathways\n",
    "# #> Signaling role analysis on the aggregated cell-cell communication network from all signaling pathways\n",
    "# patchwork::wrap_plots(plots = gg)"
   ]
  },
  {
   "cell_type": "code",
   "execution_count": null,
   "id": "622d791c",
   "metadata": {},
   "outputs": [],
   "source": []
  },
  {
   "cell_type": "code",
   "execution_count": null,
   "id": "4b7de72f",
   "metadata": {},
   "outputs": [],
   "source": [
    "%%R\n",
    "object.list=GroupStat_res2\n",
    "object.list[[1]]=netAnalysis_computeCentrality(object.list[[1]], slot.name = \"netP\") \n",
    "object.list[[2]]=netAnalysis_computeCentrality(object.list[[2]], slot.name = \"netP\") \n",
    "# object.list\n",
    "\n",
    "names(object.list)<-c(\"PBMC_late\",\"PBMC_Early\")"
   ]
  },
  {
   "cell_type": "code",
   "execution_count": null,
   "id": "a96e1341",
   "metadata": {},
   "outputs": [],
   "source": [
    "%%R -w  5000 -h 5000 -r 300\n",
    "weight.max <- getMaxWeight(object.list, attribute = c(\"idents\",\"count\"))\n",
    "par(mfrow = c(1,2), xpd=TRUE)\n",
    "for (i in 1:length(object.list)) {\n",
    "  netVisual_circle(object.list[[i]]@net$count, weight.scale = T, label.edge= F, edge.weight.max = weight.max[2], edge.width.max = 12, title.name = paste0(\"Number of interactions - \", names(object.list)[i]))\n",
    "}"
   ]
  },
  {
   "cell_type": "code",
   "execution_count": null,
   "id": "736f7cd7",
   "metadata": {},
   "outputs": [],
   "source": [
    "%%R\n",
    "# num.link"
   ]
  },
  {
   "cell_type": "code",
   "execution_count": null,
   "id": "f5df80fe",
   "metadata": {
    "scrolled": false
   },
   "outputs": [],
   "source": [
    "%%R -w 3000 -h 3000 -r 300\n",
    "num.link <- sapply(object.list, function(x) {rowSums(x@net$count) + colSums(x@net$count)-diag(x@net$count)})\n",
    "\n",
    "weight.MinMax <- c(min(num.link), max(num.link)) \n",
    "# 控制不同数据集中的气泡大小\n",
    "gg <- list()\n",
    "for (i in 1:length(object.list)) {\n",
    "  gg[[i]] <- netAnalysis_signalingRole_scatter(object.list[[i]], title = names(object.list)[i], weight.MinMax = weight.MinMax)\n",
    "}\n",
    "\n",
    "patchwork::wrap_plots(plots = gg)"
   ]
  },
  {
   "cell_type": "code",
   "execution_count": null,
   "id": "1aec1238",
   "metadata": {
    "scrolled": false
   },
   "outputs": [],
   "source": [
    "%%R -w 3000 -h 3000 -r 300\n",
    "library(ComplexHeatmap)\n",
    "i=1\n",
    "pathway.union <- union(object.list[[i]]@netP$pathways, object.list[[i+1]]@netP$pathways)\n",
    "ht1 = netAnalysis_signalingRole_heatmap(object.list[[i]], pattern = \"outgoing\", signaling = pathway.union, title = names(object.list)[i], width = 8, height = 8)\n",
    "ht2 = netAnalysis_signalingRole_heatmap(object.list[[i+1]], pattern = \"outgoing\", signaling = pathway.union, title = names(object.list)[i+1], width = 8, height = 8)\n",
    "draw(ht1 + ht2, ht_gap = unit(0.5, \"cm\"))"
   ]
  },
  {
   "cell_type": "code",
   "execution_count": null,
   "id": "33416c72",
   "metadata": {},
   "outputs": [],
   "source": [
    "# %%R -w 3000 -h 3000 -r 300\n",
    "# pathway.union <- union(object.list[[i]]@netP$pathways, object.list[[i+1]]@netP$pathways)\n",
    "# ht1 = netAnalysis_signalingRole_heatmap(object.list[[i]], pattern = \"outgoing\", signaling = pathway.union, title = names(object.list)[i], width = 8, height = 8)\n",
    "# ht2 = netAnalysis_signalingRole_heatmap(object.list[[i+1]], pattern = \"outgoing\", signaling = pathway.union, title = names(object.list)[i+1], width = 8, height = 8)\n",
    "# draw(ht1 + ht2, ht_gap = unit(0.5, \"cm\"))"
   ]
  },
  {
   "cell_type": "code",
   "execution_count": null,
   "id": "2598eeed",
   "metadata": {},
   "outputs": [],
   "source": [
    "%%R -w 3000 -h 3000 -r 300\n",
    "i=1\n",
    "pathway.union <- union(object.list[[i]]@netP$pathways, object.list[[i+1]]@netP$pathways)\n",
    "ht1 = netAnalysis_signalingRole_heatmap(object.list[[i]], pattern = \"incoming\", signaling = pathway.union, title = names(object.list)[i], width = 8, height = 8, color.heatmap = \"GnBu\")\n",
    "ht2 = netAnalysis_signalingRole_heatmap(object.list[[i+1]], pattern = \"incoming\", signaling = pathway.union, title = names(object.list)[i+1], width = 8, height = 8, color.heatmap = \"GnBu\")\n",
    "draw(ht1 + ht2, ht_gap = unit(0.5, \"cm\"))"
   ]
  },
  {
   "cell_type": "code",
   "execution_count": null,
   "id": "9a9c019e",
   "metadata": {},
   "outputs": [],
   "source": [
    "%%R\n",
    "test1<-function (object, signaling = NULL, pattern = c(\"outgoing\", \"incoming\",\n",
    "\"all\"), slot.name = \"netP\", color.use = NULL, color.heatmap = \"BuGn\",\n",
    "title = NULL, width = 10, height = 8, font.size = 8, font.size.title = 10,\n",
    "cluster.rows = FALSE, cluster.cols = FALSE)\n",
    "{\n",
    "pattern <- match.arg(pattern)\n",
    "if (length(slot(object, slot.name)$centr) == 0) {\n",
    "stop(\"Please run netAnalysis_computeCentrality to compute the network centrality scores! \")\n",
    "}\n",
    "centr <- slot(object, slot.name)$centr\n",
    "outgoing <- matrix(0, nrow = nlevels(object@idents), ncol = length(centr))\n",
    "incoming <- matrix(0, nrow = nlevels(object@idents), ncol = length(centr))\n",
    "dimnames(outgoing) <- list(levels(object@idents), names(centr))\n",
    "dimnames(incoming) <- dimnames(outgoing)\n",
    "for (i in 1:length(centr)) {\n",
    "outgoing[, i] <- centr[[i]]$outdeg\n",
    "incoming[, i] <- centr[[i]]$indeg\n",
    "}\n",
    "if (pattern == \"outgoing\") {\n",
    "mat <- t(outgoing)\n",
    "legend.name <- \"Outgoing\"\n",
    "}\n",
    "else if (pattern == \"incoming\") {\n",
    "mat <- t(incoming)\n",
    "legend.name <- \"Incoming\"\n",
    "}\n",
    "else if (pattern == \"all\") {\n",
    "mat <- t(outgoing + incoming)\n",
    "legend.name <- \"Overall\"\n",
    "}\n",
    "    return(mat)\n",
    "}"
   ]
  },
  {
   "cell_type": "code",
   "execution_count": null,
   "id": "4cbb2573",
   "metadata": {},
   "outputs": [],
   "source": [
    "%%R\n",
    "i=1\n",
    "t1out=test1(object.list[[i]], pattern = \"outgoing\", signaling = pathway.union, title = names(object.list)[i], width = 8, height = 8, color.heatmap = \"OrRd\")\n",
    "t1out"
   ]
  },
  {
   "cell_type": "code",
   "execution_count": null,
   "id": "7ab9844a",
   "metadata": {},
   "outputs": [],
   "source": [
    "%%R\n",
    "t1in=test1(object.list[[i]], pattern = \"incoming\", signaling = pathway.union, title = names(object.list)[i], width = 8, height = 8, color.heatmap = \"OrRd\")\n",
    "t1in"
   ]
  },
  {
   "cell_type": "code",
   "execution_count": null,
   "id": "a70425b7",
   "metadata": {
    "scrolled": true
   },
   "outputs": [],
   "source": [
    "%%R\n",
    "t1=test1(object.list[[i]], pattern = \"all\", signaling = pathway.union, title = names(object.list)[i], width = 8, height = 8, color.heatmap = \"OrRd\")\n",
    "t1\n",
    "options(scipen = 999)\n",
    "apply(t1, 1, sum)\n",
    "\n",
    "pSum <- rowSums(t1)\n",
    "pSum.original <- pSum\n",
    "pSum <- -1/log(pSum)\n",
    "pSum[is.na(pSum)] <- 0\n",
    "pSum[is.na(pSum)] <- 0\n",
    "    idx1 <- which(is.infinite(pSum) | pSum < 0)\n",
    "    if (length(idx1) > 0) {\n",
    "        values.assign <- seq(max(pSum) * 1.1, max(pSum) * 1.5, \n",
    "            length.out = length(idx1))\n",
    "        position <- sort(pSum.original[idx1], index.return = TRUE)$ix\n",
    "        pSum[idx1] <- values.assign[match(1:length(idx1), position)]\n",
    "    }\n",
    "pSum"
   ]
  },
  {
   "cell_type": "code",
   "execution_count": null,
   "id": "465f1a4c",
   "metadata": {},
   "outputs": [],
   "source": [
    "%%R\n",
    "t2in=test1(object.list[[i+1]], pattern = \"incoming\", signaling = pathway.union, title = names(object.list)[i+1], width = 8, height = 8, color.heatmap = \"OrRd\")\n",
    "t2in"
   ]
  },
  {
   "cell_type": "code",
   "execution_count": null,
   "id": "48cf034b",
   "metadata": {},
   "outputs": [],
   "source": [
    "%%R\n",
    "t2out=test1(object.list[[i+1]], pattern = \"outgoing\", signaling = pathway.union, title = names(object.list)[i+1], width = 8, height = 8, color.heatmap = \"OrRd\")\n",
    "t2out"
   ]
  },
  {
   "cell_type": "code",
   "execution_count": null,
   "id": "5f0b2094",
   "metadata": {
    "scrolled": true
   },
   "outputs": [],
   "source": [
    "%%R\n",
    "t2=test1(object.list[[2]], pattern = \"all\", signaling = pathway.union, title = names(object.list)[i+1], width = 8, height = 8, color.heatmap = \"OrRd\")\n",
    "t2\n",
    "options(scipen = 999)\n",
    "apply(t2, 1, sum)"
   ]
  },
  {
   "cell_type": "code",
   "execution_count": null,
   "id": "ce83ac65",
   "metadata": {},
   "outputs": [],
   "source": [
    "%%R -w 3000 -h 3000 -r 300\n",
    "i=1\n",
    "ht1 = netAnalysis_signalingRole_heatmap(object.list[[i]], pattern = \"all\", signaling = pathway.union, title = names(object.list)[i], width = 8, height = 8, color.heatmap = \"OrRd\")\n",
    "ht2 = netAnalysis_signalingRole_heatmap(object.list[[i+1]], pattern = \"all\", signaling = pathway.union, title = names(object.list)[i+1], width = 8, height = 8, color.heatmap = \"OrRd\")\n",
    "draw(ht1 + ht2, ht_gap = unit(0.5, \"cm\"))"
   ]
  },
  {
   "cell_type": "code",
   "execution_count": null,
   "id": "0c14819f",
   "metadata": {},
   "outputs": [],
   "source": [
    "%%R -w 3000 -h 1200 -r 300\n",
    "gg1 <- rankNet(PBMC_cellchat, mode = \"comparison\", stacked = T, do.stat = TRUE, color.use =c(\"#37BDA8\",\"#525DAC\"))\n",
    "gg2 <- rankNet(PBMC_cellchat, mode = \"comparison\", stacked = F, do.stat = TRUE, color.use =c(\"#37BDA8\",\"#525DAC\"))\n",
    "gg1 + gg2"
   ]
  },
  {
   "cell_type": "code",
   "execution_count": null,
   "id": "414f8804",
   "metadata": {},
   "outputs": [],
   "source": [
    "# %%R\n",
    "# object <- rankNetPairwise(object)\n",
    "# # test1=identifyEnrichedInteractions(PBMC_cellchat,from=c(1),to=c(2))"
   ]
  },
  {
   "cell_type": "code",
   "execution_count": null,
   "id": "c340c171",
   "metadata": {},
   "outputs": [],
   "source": [
    "%%R -w 6000 -h 3000 -r 300\n",
    "gg1 <- netVisual_bubble(PBMC_cellchat, sources.use = 1, targets.use = c(1:20),  comparison = c(1, 2), max.dataset = 2, title.name = \"Increased signaling in LS\", angle.x = 45, remove.isolate = T)\n",
    "#> Comparing communications on a merged object\n",
    "gg2 <- netVisual_bubble(PBMC_cellchat, sources.use = 1, targets.use = c(1:20),  comparison = c(1, 2), max.dataset = 1, title.name = \"Decreased signaling in LS\", angle.x = 45, remove.isolate = T)\n",
    "#> Comparing communications on a merged object\n",
    "gg1 + gg2"
   ]
  },
  {
   "cell_type": "code",
   "execution_count": null,
   "id": "8866bc5a",
   "metadata": {
    "scrolled": false
   },
   "outputs": [],
   "source": [
    "# %%R -w 6000 -h 3000 -r 300\n",
    "# PBMC_cellchat <- computeNetSimilarityPairwise(PBMC_cellchat, type = \"functional\")\n",
    "# #> Compute signaling network similarity for datasets 1 2\n",
    "# PBMC_cellchat <- netEmbedding(PBMC_cellchat, type = \"functional\")\n",
    "# #> Manifold learning of the signaling networks for datasets 1 2\n",
    "# PBMC_cellchat <- netClustering(PBMC_cellchat, type = \"functional\")\n",
    "# #> Classification learning of the signaling networks for datasets 1 2\n",
    "# # Visualization in 2D-space\n",
    "# netVisual_embeddingPairwise(PBMC_cellchat, type = \"functional\", label.size = 3.5)\n",
    "# #> 2D visualization of signaling networks from datasets 1 2"
   ]
  },
  {
   "cell_type": "code",
   "execution_count": null,
   "id": "e338c57d",
   "metadata": {
    "scrolled": false
   },
   "outputs": [],
   "source": [
    "%%R\n",
    "# str(PBMC_cellchat)"
   ]
  },
  {
   "cell_type": "code",
   "execution_count": null,
   "id": "33f911e8",
   "metadata": {},
   "outputs": [],
   "source": [
    "%%R -w 6000 -h 3000 -r 300\n",
    "# define a positive dataset, i.e., the dataset with positive fold change against the other dataset\n",
    "pos.dataset = \"PBMC_Early\"\n",
    "# define a char name used for storing the results of differential expression analysis\n",
    "features.name = pos.dataset\n",
    "# perform differential expression analysis\n",
    "PBMC_cellchat <- identifyOverExpressedGenes(PBMC_cellchat, group.dataset = \"datasets\", pos.dataset = pos.dataset, \n",
    "                                            features.name = features.name, only.pos = FALSE, thresh.pc = 0.1, \n",
    "                                            thresh.fc = 0.1, thresh.p = 1)"
   ]
  },
  {
   "cell_type": "code",
   "execution_count": null,
   "id": "3b2efb95",
   "metadata": {},
   "outputs": [],
   "source": [
    "%%R -w 6000 -h 3000 -r 300\n",
    "#> Use the joint cell labels from the merged PBMC_cellchat object\n",
    "# # map the results of differential expression analysis onto the inferred cell-cell communications to easily manage/subset the ligand-receptor pairs of interest\n",
    "net <- netMappingDEG(PBMC_cellchat, features.name = features.name)\n",
    "# # extract the ligand-receptor pairs with upregulated ligands in LS\n",
    "net.up <- subsetCommunication(PBMC_cellchat, net = net, datasets = \"PBMC_Early\",ligand.logFC = 0.2, receptor.logFC = NULL)\n",
    "# extract the ligand-receptor pairs with upregulated ligands and upregulated recetptors in NL, i.e.,downregulated in LS\n",
    "net.down <- subsetCommunication(PBMC_cellchat, net = net, datasets = \"PBMC_Late\",ligand.logFC = -0.1, receptor.logFC = -0.1)\n",
    "\n",
    "gene.up <- extractGeneSubsetFromPair(net.up, PBMC_cellchat)\n",
    "gene.down <- extractGeneSubsetFromPair(net.down, PBMC_cellchat)\n",
    "\n",
    "pairLR.use.up = net.up[, \"interaction_name\", drop = F]\n",
    "gg1 <- netVisual_bubble(PBMC_cellchat, pairLR.use = pairLR.use.up, sources.use = 1, targets.use = c(5:11), comparison = c(1, 2),  angle.x = 90, remove.isolate = T,title.name = paste0(\"Up-regulated signaling in \", names(object.list)[2]))\n",
    "#> Comparing communications on a merged object\n",
    "pairLR.use.down = net.down[, \"interaction_name\", drop = F]\n",
    "gg2 <- netVisual_bubble(PBMC_cellchat, pairLR.use = pairLR.use.down, sources.use = 1, targets.use = c(5:11), comparison = c(1, 2),  angle.x = 90, remove.isolate = T,title.name = paste0(\"Down-regulated signaling in \", names(object.list)[2]))\n",
    "#> Comparing communications on a merged object\n",
    "gg1 + gg2"
   ]
  },
  {
   "cell_type": "code",
   "execution_count": null,
   "id": "a7874210",
   "metadata": {},
   "outputs": [],
   "source": [
    "# %%R -w 3000 -h 3000 -r 300\n",
    "# # Chord diagram\n",
    "# par(mfrow = c(1,2), xpd=TRUE)\n",
    "# netVisual_chord_gene(object.list[[2]], sources.use = 4, targets.use = c(5:11), slot.name = 'net', net = net.up, lab.cex = 0.8, small.gap = 3.5, title.name = paste0(\"Up-regulated signaling in \", names(object.list)[2]))\n",
    "# #> Note: The first link end is drawn out of sector 'MIF'.\n",
    "# netVisual_chord_gene(object.list[[1]], sources.use = 4, targets.use = c(5:11), slot.name = 'net', net = net.down, lab.cex = 0.8, small.gap = 3.5, title.name = paste0(\"Down-regulated signaling in \", names(object.list)[2]))"
   ]
  },
  {
   "cell_type": "code",
   "execution_count": null,
   "id": "19a96d23",
   "metadata": {},
   "outputs": [],
   "source": []
  },
  {
   "cell_type": "code",
   "execution_count": null,
   "id": "ecac8660",
   "metadata": {},
   "outputs": [],
   "source": []
  },
  {
   "cell_type": "code",
   "execution_count": null,
   "id": "64288154",
   "metadata": {},
   "outputs": [],
   "source": [
    "%%R -w 3000 -h 3000 -r 300\n",
    "# netVisual_diffInteraction(PBMC_cellchat  , weight.scale = T)\n",
    "N1=netVisual_diffInteraction(PBMC_cellchat  , weight.scale = T)"
   ]
  },
  {
   "cell_type": "code",
   "execution_count": null,
   "id": "128a34e4",
   "metadata": {},
   "outputs": [],
   "source": []
  },
  {
   "cell_type": "code",
   "execution_count": null,
   "id": "51f1e7a6",
   "metadata": {},
   "outputs": [],
   "source": []
  },
  {
   "cell_type": "code",
   "execution_count": null,
   "id": "5edb4aa2",
   "metadata": {},
   "outputs": [],
   "source": [
    "%%R\n",
    "GroupStat_res"
   ]
  },
  {
   "cell_type": "code",
   "execution_count": null,
   "id": "248a74a1",
   "metadata": {},
   "outputs": [],
   "source": [
    "%%R -w 6000 -h 3000 -r 300\n",
    "weight.max <- getMaxWeight(object.list, attribute = c(\"idents\",\"count\"))\n",
    "par(mfrow = c(1,2), xpd=TRUE)\n",
    "for (i in 1:length(object.list)) {\n",
    "  netVisual_circle(object.list[[i]]@net$count, weight.scale = T, label.edge= F, edge.weight.max = weight.max[2], edge.width.max = 12, title.name = paste0(\"Number of interactions - \", names(object.list)[i]))\n",
    "}"
   ]
  },
  {
   "cell_type": "code",
   "execution_count": null,
   "id": "fc672b84",
   "metadata": {
    "scrolled": false
   },
   "outputs": [],
   "source": [
    "%%R\n",
    "# netVisual_bubble"
   ]
  },
  {
   "cell_type": "code",
   "execution_count": null,
   "id": "bc517220",
   "metadata": {},
   "outputs": [],
   "source": []
  },
  {
   "cell_type": "code",
   "execution_count": null,
   "id": "ad541474",
   "metadata": {},
   "outputs": [],
   "source": [
    "%%R -w 6000 -h 3000 -r 300\n",
    "netVisual_bubble(PBMC_cellchat, sources.use = c(1:30), targets.use =1 ,  comparison = c(1, 2), angle.x = 45)"
   ]
  },
  {
   "cell_type": "code",
   "execution_count": null,
   "id": "2f17f01d",
   "metadata": {},
   "outputs": [],
   "source": [
    "%%R -w 6000 -h 3000 -r 300\n",
    "netVisual_bubble(PBMC_cellchat, sources.use =  c(1:30), targets.use =2,  comparison = c(1, 2), angle.x = 45)\n",
    "#> Comparing communications on a merged object"
   ]
  },
  {
   "cell_type": "code",
   "execution_count": null,
   "id": "eab70a12",
   "metadata": {},
   "outputs": [],
   "source": [
    "%%R -w 6000 -h 3000 -r 300\n",
    "netVisual_bubble(PBMC_cellchat, sources.use = 2, targets.use = c(1:30),  comparison = c(1, 2), angle.x = 45)\n",
    "#> Comparing communications on a merged object"
   ]
  },
  {
   "cell_type": "code",
   "execution_count": null,
   "id": "9f78ecbf",
   "metadata": {},
   "outputs": [],
   "source": [
    "%%R\n",
    "colnames(PBMC_cellchat@net$PBMC_Early$prob)"
   ]
  },
  {
   "cell_type": "code",
   "execution_count": null,
   "id": "4752e4b2",
   "metadata": {},
   "outputs": [],
   "source": [
    "%%R -w 6000 -h 3000 -r 300\n",
    "P1=netVisual_bubble(PBMC_cellchat, sources.use = c(1,4,7) , targets.use =c(1:39),  comparison = c(1, 2), angle.x = 45)\n",
    "#> Comparing communications on a merged object\n",
    "write.csv(P1$data,'P1data_cellchate.csv')"
   ]
  },
  {
   "cell_type": "code",
   "execution_count": null,
   "id": "a18f4600",
   "metadata": {},
   "outputs": [],
   "source": [
    "%%R -w 6000 -h 3000 -r 300\n",
    "P1=netVisual_bubble(PBMC_cellchat, sources.use = c(4,7,2) , targets.use =c(1:39),  comparison = c(1, 2), angle.x = 45)\n",
    "P1\n",
    "#> Comparing communications on a merged object\n",
    "write.csv(P1$data,'/data1/maolp/Codeman/Project/Main_Gao_ScanpyProject20231003/Gao_plot/Figure2sup_Cellchat/Gao_Cellchat/CellChatData/P1data_cellchate_source.csv')\n",
    "P1"
   ]
  },
  {
   "cell_type": "code",
   "execution_count": null,
   "id": "22ce575b",
   "metadata": {},
   "outputs": [],
   "source": []
  },
  {
   "cell_type": "code",
   "execution_count": null,
   "id": "b8a54699",
   "metadata": {},
   "outputs": [],
   "source": []
  },
  {
   "cell_type": "code",
   "execution_count": null,
   "id": "c3dcd109",
   "metadata": {},
   "outputs": [],
   "source": [
    "%%R -w 6000 -h 3000 -r 300\n",
    "P2=netVisual_bubble(PBMC_cellchat, sources.use = c(1:39) , targets.use =c(4,7,2),  comparison = c(1, 2), angle.x = 45)\n",
    "#> Comparing communications on a merged object\n",
    "write.csv(P2$data,'/data1/maolp/Codeman/Project/Main_Gao_ScanpyProject20231003/Gao_plot/Figure2sup_Cellchat/Gao_Cellchat/CellChatData/P2data_cellchate.csv')\n",
    "P2"
   ]
  },
  {
   "cell_type": "code",
   "execution_count": null,
   "id": "0eac15f3",
   "metadata": {},
   "outputs": [],
   "source": [
    "%%R -w 6000 -h 3000 -r 300\n",
    "P2=netVisual_bubble(PBMC_cellchat, sources.use = c(1:39) , targets.use =c(1:30),  comparison = c(1, 2), angle.x = 45)\n",
    "#> Comparing communications on a merged object\n",
    "write.csv(P2$data,'P2data_cellchate.csv')"
   ]
  },
  {
   "cell_type": "code",
   "execution_count": null,
   "id": "f115354d",
   "metadata": {},
   "outputs": [],
   "source": [
    "%%R -w 6000 -h 3000 -r 300\n",
    "netVisual_bubble(PBMC_cellchat, sources.use = c(1:30) , targets.use =3,  comparison = c(1, 2), angle.x = 45)\n",
    "#> Comparing communications on a merged object"
   ]
  },
  {
   "cell_type": "code",
   "execution_count": null,
   "id": "0753342d",
   "metadata": {},
   "outputs": [],
   "source": []
  },
  {
   "cell_type": "code",
   "execution_count": null,
   "id": "1b60af30",
   "metadata": {},
   "outputs": [],
   "source": [
    "%%R -w 6000 -h 3000 -r 300\n",
    "netVisual_bubble(PBMC_cellchat, sources.use = 3, targets.use = c(1:30),  comparison = c(1, 2), angle.x = 45)\n",
    "#> Comparing communications on a merged object"
   ]
  },
  {
   "cell_type": "code",
   "execution_count": null,
   "id": "5ea80e94",
   "metadata": {},
   "outputs": [],
   "source": [
    "%%R -w 6000 -h 3000 -r 300\n",
    "# Chord diagram\n",
    "par(mfrow = c(1,2), xpd=TRUE)\n",
    "netVisual_chord_gene(object.list[[2]], sources.use = 4, targets.use = c(5:11), slot.name = 'net', net = net.up, lab.cex = 0.8, small.gap = 3.5, title.name = paste0(\"Up-regulated signaling in \", names(object.list)[2]))\n",
    "#> Note: The first link end is drawn out of sector 'MIF'.\n",
    "netVisual_chord_gene(object.list[[1]], sources.use = 4, targets.use = c(5:11), slot.name = 'net', net = net.down, lab.cex = 0.8, small.gap = 3.5, title.name = paste0(\"Down-regulated signaling in \", names(object.list)[2]))"
   ]
  },
  {
   "cell_type": "code",
   "execution_count": null,
   "id": "c13ac26a",
   "metadata": {},
   "outputs": [],
   "source": [
    "%%R -w 6000 -h 3000 -r 300\n",
    "pathways.show <- c(\"CD99\") \n",
    "weight.max <- getMaxWeight(object.list, slot.name = c(\"netP\"), attribute = pathways.show) # control the edge weights across different datasets\n",
    "par(mfrow = c(1,2), xpd=TRUE)\n",
    "for (i in 1:length(object.list)) {\n",
    "  netVisual_aggregate(object.list[[i]], signaling = pathways.show, layout = \"circle\", edge.weight.max = weight.max[1], edge.width.max = 10, signaling.name = paste(pathways.show, names(object.list)[i]))\n",
    "}"
   ]
  },
  {
   "cell_type": "code",
   "execution_count": null,
   "id": "812c6056",
   "metadata": {},
   "outputs": [],
   "source": [
    "%%R -w 6000 -h 3000 -r 300\n",
    "# cellchat@meta$datasets = factor(cellchat@meta$datasets, levels = c(\"NL\", \"LS\")) # set factor level\n",
    "plotGeneExpression(PBMC_cellchat, signaling = \"CD99\", split.by = \"datasets\", colors.ggplot = T)\n",
    "#> The default behaviour of split.by has changed.\n",
    "#> Separate violin plots are now plotted side-by-side.\n",
    "#> To restore the old behaviour of a single split violin,\n",
    "#> set split.plot = TRUE.\n",
    "#>       \n",
    "#> This message will be shown once per session.\n",
    "#> Scale for 'y' is already present. Adding another scale for 'y', which will\n",
    "#> replace the existing scale.\n",
    "#> Scale for 'y' is already present. Adding another scale for 'y', which will\n",
    "#> replace the existing scale.\n",
    "#> Scale for 'y' is already present. Adding another scale for 'y', which will\n",
    "#> replace the existing scale."
   ]
  },
  {
   "cell_type": "code",
   "execution_count": null,
   "id": "cabf6d27",
   "metadata": {},
   "outputs": [],
   "source": [
    "# %%R\n",
    "# process_cellchat <- function(adata,  id_value, cell_type_label) {\n",
    "#   subset_data <- subset(adata, GroupStat== id_value)\n",
    "#   data.pbmc <- subset_data@assays$RNA@data\n",
    "  \n",
    "#   # Use cell_type_label as the name of the column to use for group labels\n",
    "#   cellmeta <- data.frame(group = as.character(subset_data[[cell_type_label]]), row.names = names(subset_data[[cell_type_label]]))\n",
    "#   print(\"test3\")\n",
    "#   print(paste(\"Cellmeta rows: \", nrow(cellmeta)))\n",
    "#   print(paste(\"Subset data cells: \", length(subset_data@meta.data[[cell_type_label]])))\n",
    "#   cellchat <- createCellChat(object = data.pbmc)\n",
    "#   cellchat <- addMeta(cellchat, meta = cellmeta, meta.name = \"labels\")\n",
    "#   cellchat <- setIdent(cellchat, ident.use = \"labels\")\n",
    "  \n",
    "#   CellChatDB <- CellChatDB.human\n",
    "#   CellChatDB.use <- subsetDB(CellChatDB, search = \"Cell-Cell Contact\", key = \"annotation\")\n",
    "#   cellchat@DB <- CellChatDB.use\n",
    "  \n",
    "#   cellchat <- subsetData(cellchat)\n",
    "#   cellchat <- identifyOverExpressedGenes(cellchat)\n",
    "#   cellchat <- identifyOverExpressedInteractions(cellchat)\n",
    "#   cellchat <- projectData(cellchat, PPI.human)\n",
    "\n",
    "#   cellchat <- computeCommunProb(cellchat)\n",
    "#   cellchat <- computeCommunProbPathway(cellchat)\n",
    "#   cellchat <- aggregateNet(cellchat)\n",
    "  \n",
    "#   return(cellchat)\n",
    "# }\n",
    "\n",
    "# # Get a list of all unique AdjustedID values\n",
    "# # adjusted_ids <- unique(adata1$AdjustedID)\n",
    "# GroupStat_ids <- c( \"PBMC_Early\",\"PBMC_Late\"  )\n",
    "# # Run the function on all AdjustedID values and store the results in a list\n",
    "# # Specify the column to use for cell type labels\n",
    "# # results <- lapply(adjusted_ids, function(id) process_cellchat(adata1, id, \"Last_cell_type\"))\n",
    "# # GroupStat_res=lapply(GroupStat_ids , function(id) process_cellchat(subadata1,id, \"Last_cell_type\"))\n",
    "# # saveRDS(GroupStat_res, file = \"GroupStat_res.rds\")\n",
    "# # Save the results as an RDS file\n",
    "# # saveRDS(results, file = \"cellchat_results.rds\")"
   ]
  },
  {
   "cell_type": "code",
   "execution_count": null,
   "id": "e3d7b00a",
   "metadata": {},
   "outputs": [],
   "source": [
    "%%R\n",
    "# Merge the CellChat objects in the results list\n",
    "# merged_cellchat <- mergeCellChat(results, add.names = adjusted_ids)\n",
    "\n",
    "# Now merged_cellchat is a merged CellChat object"
   ]
  },
  {
   "cell_type": "code",
   "execution_count": null,
   "id": "603acdf5",
   "metadata": {},
   "outputs": [],
   "source": []
  },
  {
   "cell_type": "code",
   "execution_count": null,
   "id": "34fa19c9",
   "metadata": {},
   "outputs": [],
   "source": []
  },
  {
   "cell_type": "code",
   "execution_count": null,
   "id": "fb147b93",
   "metadata": {},
   "outputs": [],
   "source": [
    "# %%R\n",
    "# process_cellchat2 <- function(adata, adjusted_id) {\n",
    "#   subset_data <- subset(adata, AdjustedID == adjusted_id)\n",
    "#   data.pbmc <- subset_data@assays$RNA@data\n",
    "#   cellmeta <- data.frame(group = as.character(subset_data$Cell_lineage), row.names = names(subset_data$Cell_lineage))\n",
    "  \n",
    "#   cellchat <- createCellChat(object = data.pbmc)\n",
    "#   cellchat <- addMeta(cellchat, meta = cellmeta, meta.name = \"labels\")\n",
    "#   cellchat <- setIdent(cellchat, ident.use = \"labels\")\n",
    "  \n",
    "#   CellChatDB <- CellChatDB.human\n",
    "#   CellChatDB.use <- subsetDB(CellChatDB, search = \"Cell-Cell Contact\", key = \"annotation\")\n",
    "#   cellchat@DB <- CellChatDB.use\n",
    "  \n",
    "#   cellchat <- subsetData(cellchat)\n",
    "#   cellchat <- identifyOverExpressedGenes(cellchat)\n",
    "#   cellchat <- identifyOverExpressedInteractions(cellchat)\n",
    "#   cellchat <- projectData(cellchat, PPI.human)\n",
    "\n",
    "#   cellchat <- computeCommunProb(cellchat)\n",
    "#   cellchat <- computeCommunProbPathway(cellchat)\n",
    "#   cellchat <- aggregateNet(cellchat)\n",
    "  \n",
    "#   return(cellchat)\n",
    "# }\n",
    "\n",
    "# # Get a list of all unique AdjustedID values\n",
    "# adjusted_ids <- unique(adata1$AdjustedID)\n",
    "\n",
    "# # Run the function on all AdjustedID values and store the results in a list\n",
    "# results2 <- lapply(adjusted_ids, function(id) process_cellchat2(adata1, id))\n",
    "\n",
    "# # Save the results as an RDS file\n",
    "# saveRDS(results2, file = \"/home/maolp/Allcount/All_scanpyData/Data/cellchat_results_celllieange.rds\")"
   ]
  },
  {
   "cell_type": "code",
   "execution_count": 25,
   "id": "728c7127",
   "metadata": {},
   "outputs": [],
   "source": [
    "%%R\n",
    "results2=readRDS(\"cellchat_results.rds\")"
   ]
  },
  {
   "cell_type": "code",
   "execution_count": 1,
   "id": "353290f2",
   "metadata": {},
   "outputs": [],
   "source": [
    "%%R\n",
    "# unique(adata1$AdjustedID)\n",
    "# str(results2[[1]])\n",
    "# 提取每个列表元素的第一个列名中 _ 前面的部分\n",
    "result <- lapply(1:32, function(x) {\n",
    "    col_name <- colnames(results2[[x]]@data)[1]\n",
    "    strsplit(col_name, \"_\")[[1]][1]\n",
    "})\n",
    "\n",
    "\n",
    "result_vector <- unlist(result)\n",
    "\n",
    "\n",
    "print(result_vector)"
   ]
  },
  {
   "cell_type": "code",
   "execution_count": null,
   "id": "168dc839",
   "metadata": {},
   "outputs": [],
   "source": [
    "%%R\n",
    "# str(adata1)"
   ]
  },
  {
   "cell_type": "code",
   "execution_count": null,
   "id": "24dba305",
   "metadata": {
    "code_folding": [],
    "scrolled": false
   },
   "outputs": [],
   "source": [
    "%%R\n",
    "# str(adata1)\n",
    "library(dplyr)\n",
    "unique_data <- adata1@meta.data %>%\n",
    "  distinct(AdjustedID, Name)\n",
    "\n",
    "unique_data\n",
    "all(unique_data$Name==result_vector)\n"
   ]
  },
  {
   "cell_type": "code",
   "execution_count": null,
   "id": "02715710",
   "metadata": {},
   "outputs": [],
   "source": [
    "%%R\n",
    "# names(object.list2)<-unique_data$AdjustedID\n"
   ]
  },
  {
   "cell_type": "code",
   "execution_count": null,
   "id": "dd6e5bd5",
   "metadata": {},
   "outputs": [],
   "source": [
    "%%R\n",
    "merged_cellchat2 <- mergeCellChat(results2, add.names =unique_data$AdjustedID)"
   ]
  },
  {
   "cell_type": "code",
   "execution_count": null,
   "id": "2cea2fbe",
   "metadata": {},
   "outputs": [],
   "source": [
    "%%R\n",
    "grep(\"B\",unique_data$AdjustedID)"
   ]
  },
  {
   "cell_type": "code",
   "execution_count": null,
   "id": "2aec12ac",
   "metadata": {},
   "outputs": [],
   "source": [
    "%%R\n",
    "adjusted_ids <-unique_data$AdjustedID\n",
    "# Merge the CellChat objects in the results list\n",
    "# merged_cellchat2 <- mergeCellChat(results2, add.names = adjusted_ids)\n",
    "\n",
    "# Now merged_cellchat is a merged CellChat object"
   ]
  },
  {
   "cell_type": "code",
   "execution_count": null,
   "id": "164626b2",
   "metadata": {},
   "outputs": [],
   "source": [
    "%%R\n",
    "object.list2=results2\n",
    "object.list2 <- lapply(object.list2, function(x) netAnalysis_computeCentrality(x, slot.name = \"netP\"))"
   ]
  },
  {
   "cell_type": "code",
   "execution_count": null,
   "id": "dc09440a",
   "metadata": {},
   "outputs": [],
   "source": [
    "%%R -w 3000 -h 1000 -r 300\n",
    "gg1 <- compareInteractions(merged_cellchat2 , show.legend = F, group = c(1:32))\n",
    "gg2 <- compareInteractions(merged_cellchat2 , show.legend = F, group = c(1:32), measure = \"weight\")\n",
    "gg1 + gg2"
   ]
  },
  {
   "cell_type": "code",
   "execution_count": null,
   "id": "8623e72f",
   "metadata": {},
   "outputs": [],
   "source": [
    "%%R\n",
    "gg2$data"
   ]
  },
  {
   "cell_type": "code",
   "execution_count": null,
   "id": "a9ecdcaf",
   "metadata": {},
   "outputs": [],
   "source": [
    "%%R\n",
    "library(tidyverse)\n",
    "\n",
    "process_data <- function(data) {\n",
    "  data <- data %>%\n",
    "    separate(dataset, into = c(\"part1\", \"part2\"), sep = \"_\") %>%\n",
    "    mutate(\n",
    "      Organ = substr(part1, 1, 1),\n",
    "      Week = substr(part1, 2, 5)\n",
    "    ) %>%\n",
    "    arrange(Organ,Week) %>%\n",
    "    mutate(\n",
    "      Stage = ifelse(as.numeric(Week) > 26, \"Late\", \"Early\")\n",
    "    )\n",
    "  \n",
    "  return(data)\n",
    "}\n",
    "\n",
    "\n",
    "data1 <- process_data(gg1$data)\n",
    "data1$Organ_Stage <-paste0(data1$Organ,'_',data1$Stage)\n",
    "data1_PBMC=data1[grep('B',data1$Organ),]\n",
    "print(data1)\n"
   ]
  },
  {
   "cell_type": "code",
   "execution_count": null,
   "id": "e340b99a",
   "metadata": {
    "scrolled": false
   },
   "outputs": [],
   "source": [
    "%%R -w 1600 -h 1200 -r 300\n",
    "\n",
    "library(ggplot2)\n",
    "library(ggpubr)\n",
    "library(ggsci)\n",
    "data2 <- process_data(gg2$data)\n",
    "data2$Organ_Stage <-paste0(data2$Organ,'_',data2$Stage)\n",
    "data2$Organ_Stage<-factor(data2$Organ_Stage,level=c(\"B_Early\", \"B_Late\", \"L_Early\",\"T_Early\",\"S_Early\"))\n",
    "my_comparisons <- list(\n",
    "  c(\"B_Early\", \"B_Late\"),\n",
    "  c(\"B_Early\", \"L_Early\"),\n",
    "  c(\"B_Early\", \"S_Early\"),\n",
    "  c(\"B_Early\", \"T_Early\"),\n",
    "  c(\"B_Late\", \"L_Early\"),\n",
    "  c(\"B_Late\", \"S_Early\"),\n",
    "  c(\"B_Late\", \"T_Early\"),\n",
    "  c(\"L_Early\", \"S_Early\"),\n",
    "  c(\"L_Early\", \"T_Early\"),\n",
    "  c(\"S_Early\", \"T_Early\")\n",
    ")\n",
    "p <- ggplot(data2, aes(x = Organ_Stage, y = count)) +\n",
    "#   geom_boxplot(aes())+\n",
    "#   geom_violin(position = position_dodge(width = 1), scale = 'width') +\n",
    "#   geom_boxplot(position = position_dodge(width = 1), outlier.size = 0.7, width = 0.1, show.legend = FALSE) \n",
    "geom_boxplot(alpha = .5) +\n",
    "    geom_point(position = position_jitter(seed = 2023, width = .25),\n",
    "               aes(color =Organ_Stage, shape =Organ_Stage ), alpha = .4, size = 3.5) +\n",
    "    theme(panel.grid = element_blank(), \n",
    "          panel.background = element_blank(), \n",
    "          panel.border = element_blank(),\n",
    "          axis.line = element_line(color = \"black\"),\n",
    "          axis.text.x = element_text(size = 12, angle = 45, hjust = 1), \n",
    "          axis.text.y = element_text(size = 12),\n",
    "          plot.title = element_text(hjust = 0.5),\n",
    "          legend.title = element_blank(), \n",
    "          legend.key = element_blank()) +\n",
    "    scale_fill_futurama() +\n",
    "    scale_color_futurama()\n",
    "\n",
    "p <- p + stat_compare_means(comparisons = my_comparisons, label = \"p.signif\", tip.length = 0.01) +\n",
    "theme(panel.grid = element_blank(), \n",
    "        panel.background = element_blank(), \n",
    "        panel.border = element_blank(),\n",
    "        axis.line = element_line(color = \"black\"),\n",
    "        axis.text.x = element_text(size = 12, angle = 45, hjust = 1), \n",
    "        axis.text.y = element_text(size = 12),\n",
    "        plot.title = element_text(hjust = 0.5),\n",
    "        legend.title = element_blank(), \n",
    "        legend.key = element_blank()) +\n",
    "  labs(x = '', y = '', title = 'Interaction strength')+scale_fill_manual(values = c(\"#FFA300\",\"#F6313E\", \"#fb862b\", \"#0eb0c8\", \"#6a73cf\"))\n",
    "\n",
    "\n",
    "print(p)\n",
    "ggsave(plot=p,\"/home/maolp/Allcount/All_scanpyData/Cellchat/PBMC_cellchat_boxplot.pdf\",width=4,height=4)"
   ]
  },
  {
   "cell_type": "code",
   "execution_count": null,
   "id": "f91370dd",
   "metadata": {},
   "outputs": [],
   "source": [
    "%%R -w 1600 -h 1200 -r 300\n",
    "\n",
    "library(ggplot2)\n",
    "library(ggpubr)\n",
    "\n",
    "data1$Organ_Stage<-factor(data1$Organ_Stage,level=c(\"B_Early\", \"B_Late\", \"L_Early\",\"T_Early\",\"S_Early\"))\n",
    "p2 <- ggplot(data1, aes(x = Organ_Stage, y = count)) +\n",
    "geom_boxplot(alpha = .5) +\n",
    "    geom_point(position = position_jitter(seed = 2023, width = .25),\n",
    "               aes(color =Organ_Stage, shape =Organ_Stage ), alpha = .4, size = 3) +\n",
    "    theme(panel.grid = element_blank(), \n",
    "          panel.background = element_blank(), \n",
    "          panel.border = element_blank(),\n",
    "          axis.line = element_line(color = \"black\"),\n",
    "          axis.text.x = element_text(size = 12, angle = 45, hjust = 1), \n",
    "          axis.text.y = element_text(size = 12),\n",
    "          plot.title = element_text(hjust = 0.5),\n",
    "          legend.title = element_blank(), \n",
    "          legend.key = element_blank()) +\n",
    "    scale_fill_futurama() +\n",
    "    scale_color_futurama()\n",
    "\n",
    "my_comparisons <- list(\n",
    "  c(\"B_Early\", \"B_Late\"),\n",
    "  c(\"B_Early\", \"L_Early\"),\n",
    "  c(\"B_Early\", \"S_Early\"),\n",
    "  c(\"B_Early\", \"T_Early\"),\n",
    "  c(\"B_Late\", \"L_Early\"),\n",
    "  c(\"B_Late\", \"S_Early\"),\n",
    "  c(\"B_Late\", \"T_Early\"),\n",
    "  c(\"L_Early\", \"S_Early\"),\n",
    "  c(\"L_Early\", \"T_Early\"),\n",
    "  c(\"S_Early\", \"T_Early\")\n",
    ")\n",
    "\n",
    "p2 <- p2 + stat_compare_means(comparisons = my_comparisons, label = \"p.signif\", tip.length = 0.01) + theme_minimal() +\n",
    "  theme(panel.grid = element_blank(), \n",
    "        panel.background = element_blank(), \n",
    "        panel.border = element_blank(),\n",
    "        axis.line = element_line(color = \"black\"),\n",
    "        axis.text.x = element_text(size = 12, angle = 45, hjust = 1), \n",
    "        axis.text.y = element_text(size = 12),\n",
    "        plot.title = element_text(hjust = 0.5),\n",
    "        legend.title = element_blank(), \n",
    "        legend.key = element_blank()) +\n",
    "  labs(x = '', y = '', title = 'Number of inferred interactions')+scale_fill_manual(values = c(\"#FFA300\",\"#F6313E\", \"#fb862b\", \"#0eb0c8\", \"#6a73cf\"))\n",
    "\n",
    "print(p2)\n",
    "ggsave(plot=p2,\"/home/maolp/Allcount/All_scanpyData/Cellchat/PBMC_cellchat_boxplot_inferred_interactions.pdf\",width=4,height=4)"
   ]
  },
  {
   "cell_type": "code",
   "execution_count": null,
   "id": "b50c0546",
   "metadata": {},
   "outputs": [],
   "source": [
    "%%R\n",
    "unique_data2<-unique_data\n",
    "unique_data2$Seq=seq(1,32)\n",
    "unique_data2$Organ = substring(unique_data2$AdjustedID, 1, 1)\n",
    "unique_data2$Week = substring(unique_data2$AdjustedID, 2, 5)\n",
    "\n",
    "\n",
    "unique_data2 <- unique_data2 %>% arrange(Organ, Week)\n",
    "\n",
    "print(unique_data2)\n",
    "unique_data2"
   ]
  },
  {
   "cell_type": "code",
   "execution_count": null,
   "id": "399f80e5",
   "metadata": {
    "scrolled": false
   },
   "outputs": [],
   "source": [
    "%%R -w 10000 -h 12000 -r 300\n",
    "\n",
    "num.link <- sapply(object.list2, function(x) {rowSums(x@net$count) + colSums(x@net$count)-diag(x@net$count)})\n",
    "num.link \n",
    "weight.MinMax <- c(0,643) \n",
    "\n",
    "gg <- list()\n",
    "j=0\n",
    "for (i in unique_data2$Seq) {\n",
    "    j=j+1\n",
    "  gg[[j]] <- netAnalysis_signalingRole_scatter(object.list2[[i]], title = names(object.list2)[i], weight.MinMax = weight.MinMax)\n",
    "}\n",
    "\n",
    "patchwork::wrap_plots(plots = gg,ncol=4)"
   ]
  },
  {
   "cell_type": "code",
   "execution_count": null,
   "id": "fbca6875",
   "metadata": {
    "scrolled": false
   },
   "outputs": [],
   "source": [
    "%%R -w 10000 -h 12000 -r 300\n",
    "\n",
    "num.link <- sapply(object.list2, function(x) {rowSums(x@net$count) + colSums(x@net$count)-diag(x@net$count)})\n",
    "num.link \n",
    "weight.MinMax <- c(0,643) \n",
    "# # 控制不同数据集中的气泡大小\n",
    "gg <- list()\n",
    "for (i in 1:length(object.list2)) {\n",
    "  gg[[i]] <- netAnalysis_signalingRole_scatter(object.list2[[i]], title = names(object.list2)[i], weight.MinMax = weight.MinMax)\n",
    "}\n",
    "\n",
    "patchwork::wrap_plots(plots = gg,ncol=3)"
   ]
  },
  {
   "cell_type": "code",
   "execution_count": null,
   "id": "1896c2fe",
   "metadata": {},
   "outputs": [],
   "source": [
    "# %%R\n",
    "# str(merged_cellchat2 )"
   ]
  },
  {
   "cell_type": "code",
   "execution_count": null,
   "id": "a33fe5f8",
   "metadata": {},
   "outputs": [],
   "source": [
    "# %%R\n",
    "# # par(mfrow = c(1,2), xpd=TRUE)\n",
    "# netVisual_diffInteraction(merged_cellchat2 , weight.scale = T)\n",
    "# netVisual_diffInteraction(merged_cellchat2 , weight.scale = T, measure = \"weight\")"
   ]
  },
  {
   "cell_type": "code",
   "execution_count": null,
   "id": "3604be97",
   "metadata": {},
   "outputs": [],
   "source": [
    "# %%R -w 6000 -h 3000 -r 300\n",
    "# gg1 <- netVisual_heatmap(merged_cellchat2)\n",
    "# #> Do heatmap based on a merged object\n",
    "# gg2 <- netVisual_heatmap(merged_cellchat2, measure = \"weight\")\n",
    "# #> Do heatmap based on a merged object\n",
    "# gg1 + gg2"
   ]
  },
  {
   "cell_type": "code",
   "execution_count": null,
   "id": "e7c48246",
   "metadata": {},
   "outputs": [],
   "source": [
    "# %%R -w 6000 -h 3000 -r 300\n",
    "# gg1 <- compareInteractions(merged_cellchat, show.legend = F, group = c(1,2))\n",
    "# gg2 <- compareInteractions(merged_cellchat, show.legend = F, group = c(1,2), measure = \"weight\")\n",
    "# gg1 + gg2"
   ]
  },
  {
   "cell_type": "code",
   "execution_count": null,
   "id": "c88cbe18",
   "metadata": {},
   "outputs": [],
   "source": [
    "# %%R -w 6000 -h 3000 -r 300\n",
    "# gg1 <- gg1 + theme(axis.text.x = element_text(angle = 90, hjust = 1)) \n",
    "# gg2 <- gg2 + theme(axis.text.x = element_text(angle = 90, hjust = 1)) \n",
    "\n",
    "# gg1+gg2"
   ]
  },
  {
   "cell_type": "code",
   "execution_count": null,
   "id": "6cc316a2",
   "metadata": {},
   "outputs": [],
   "source": [
    "# %%R -w 3000 -h 1000 -r 300\n",
    "# # str(gg1)\n",
    "# # #  %>% arrange(dataset)\n",
    "# # df_sorted <- gg1$data[order(gg1$data$dataset, decreasing = TRUE),]\n",
    "# # df_sorted\n",
    "# df=gg1$data\n",
    "# # Get the first letter and the numeric part of the 'dataset' column\n",
    "# first_letter <- substr(df$dataset, 1, 1)\n",
    "# numeric_part <- as.numeric(gsub(\"\\\\D\", \"\", df$dataset))\n",
    "\n",
    "# # Sort df by the first letter in ascending order and the numeric part in ascending order\n",
    "# df_sorted <- df[order(first_letter, numeric_part), ]\n",
    "# df_sorted$Organ<-substring(df_sorted$dataset,1,1) \n",
    "# df_sorted$Organ<-factor(df_sorted$Organ,levels=c(\"B\",\"L\",\"T\",\"S\",labels=c(\"PBMC\",\"Liver\",\"Thymus\",\"Spleen\")))\n",
    "# # Print the sorted data frame\n",
    "# # print(df_sorted)\n",
    "# df_sorted %>% ggplot(aes(as.character(dataset),count))+geom_col(aes(fill=Organ))+\n",
    "# theme_bw()+theme(axis.text.x = element_text(angle = 90, hjust = 1)) +\n",
    "# facet_grid(. ~ Organ, space = \"free\", scales = \"free\", switch = \"y\") +xlab(\"\")"
   ]
  },
  {
   "cell_type": "code",
   "execution_count": null,
   "id": "be548839",
   "metadata": {},
   "outputs": [],
   "source": [
    "# %%R -w 3000 -h 1000 -r 300\n",
    "# rank1<-rankNet(merged_cellchat2,mode=\"comparison\",stacked=T,do.stat=T)\n",
    "# rank2<-rankNet(merged_cellchat2,mode=\"comparison\",stacked=F,do.stat=T)\n",
    "# rank1+rank2"
   ]
  },
  {
   "cell_type": "code",
   "execution_count": null,
   "id": "ad1b0e00",
   "metadata": {},
   "outputs": [],
   "source": [
    "# %%R\n",
    "# levels(adjusted_ids)"
   ]
  },
  {
   "cell_type": "code",
   "execution_count": null,
   "id": "608b2053",
   "metadata": {},
   "outputs": [],
   "source": []
  }
 ],
 "metadata": {
  "kernelspec": {
   "display_name": "Python 3 (ipykernel)",
   "language": "python",
   "name": "python3"
  },
  "language_info": {
   "codemirror_mode": {
    "name": "ipython",
    "version": 3
   },
   "file_extension": ".py",
   "mimetype": "text/x-python",
   "name": "python",
   "nbconvert_exporter": "python",
   "pygments_lexer": "ipython3",
   "version": "3.9.16"
  }
 },
 "nbformat": 4,
 "nbformat_minor": 5
}
